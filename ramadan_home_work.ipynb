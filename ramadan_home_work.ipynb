{
  "cells": [
    {
      "cell_type": "markdown",
      "metadata": {
        "id": "view-in-github",
        "colab_type": "text"
      },
      "source": [
        "<a href=\"https://colab.research.google.com/github/Awais68/ramadan_colab-Assignment-04/blob/main/ramadan_home_work.ipynb\" target=\"_parent\"><img src=\"https://colab.research.google.com/assets/colab-badge.svg\" alt=\"Open In Colab\"/></a>"
      ]
    },
    {
      "cell_type": "markdown",
      "metadata": {
        "id": "4WVXhPRGIpNl"
      },
      "source": [
        "RAMADAN CODING CHALLENGES\n"
      ]
    },
    {
      "cell_type": "markdown",
      "metadata": {
        "id": "i3w9rCfHIyXN"
      },
      "source": [
        "01 _Add Two number"
      ]
    },
    {
      "cell_type": "code",
      "execution_count": null,
      "metadata": {
        "colab": {
          "base_uri": "https://localhost:8080/"
        },
        "id": "dmWw2mvUJCSj",
        "outputId": "43a6eefc-20c7-4f08-dedc-8c0060e983cf"
      },
      "outputs": [
        {
          "name": "stdout",
          "output_type": "stream",
          "text": [
            "Collecting colorama\n",
            "  Downloading colorama-0.4.6-py2.py3-none-any.whl.metadata (17 kB)\n",
            "Downloading colorama-0.4.6-py2.py3-none-any.whl (25 kB)\n",
            "Installing collected packages: colorama\n",
            "Successfully installed colorama-0.4.6\n"
          ]
        }
      ],
      "source": [
        "\n"
      ]
    },
    {
      "cell_type": "code",
      "execution_count": null,
      "metadata": {
        "colab": {
          "base_uri": "https://localhost:8080/"
        },
        "id": "cQ16FIBZHsj-",
        "outputId": "a4ea55d9-1fe1-459c-f4e1-efc3f122acfc"
      },
      "outputs": [
        {
          "name": "stdout",
          "output_type": "stream",
          "text": [
            "\n",
            "\t\t\t\u001b[36m\u001b[1mWell Come To Ramadan Coding Assignment\u001b[0m\n",
            "\n",
            "\t\t\t\u001b[36m\u001b[1mThis is Add Two Numbers Project Project # 1\n",
            "Enter a number: 13\n",
            "Enter Seconds  number: 26\n",
            "\t\t\t\tHere is your Result:  39\n"
          ]
        }
      ],
      "source": [
        "from colorama import Fore, Back, Style\n",
        "print(\"\\n\\t\\t\\t\" + Fore.CYAN + Style.BRIGHT + \"Well Come To Ramadan Coding Assignment\" + Style.RESET_ALL)\n",
        "\n",
        "print(\"\\n\\t\\t\\t\" + Fore.CYAN + Style.BRIGHT+ \"This is Add Two Numbers Project Project # 1\")\n",
        "a : str = input(\"Enter a number: \")\n",
        "a:int = int(a)\n",
        "b = input(\"Enter Seconds  number: \")\n",
        "b : int = int(b)\n",
        "\n",
        "print(\"\\t\\t\\t\\t\" \"Here is your Result: \", a + b)"
      ]
    },
    {
      "cell_type": "markdown",
      "metadata": {
        "id": "pZLesvDXMHKX"
      },
      "source": [
        "**02_Agreement_bot**"
      ]
    },
    {
      "cell_type": "code",
      "execution_count": null,
      "metadata": {
        "colab": {
          "base_uri": "https://localhost:8080/"
        },
        "id": "4b70skSlMsPl",
        "outputId": "1f4d7b7e-7269-4e2c-fd3d-8be14085b0e0"
      },
      "outputs": [
        {
          "name": "stdout",
          "output_type": "stream",
          "text": [
            "\n",
            "\t\t\t\u001b[36m\u001b[1mWhat is Your Favorite Animal?\u001b[0m\n",
            "What's Your Favorite Animal's Name? Lion\n",
            "\n",
            "\t\t\tMy Favorite Animal is also Lion!\n"
          ]
        }
      ],
      "source": [
        "from colorama import Fore, Back, Style\n",
        "print(\"\\n\\t\\t\\t\" + Fore.CYAN + Style.BRIGHT + \"What is Your Favorite Animal?\" + Style.RESET_ALL)\n",
        "def main():\n",
        "  question = input(\"What's Your Favorite Animal's Name? \")\n",
        "  print(\"\\n\\t\\t\\t\" f\"My Favorite Animal is also {question}!\")\n",
        "\n",
        "if __name__ == \"__main__\":\n",
        "  main()\n"
      ]
    },
    {
      "cell_type": "markdown",
      "metadata": {
        "id": "X3AWQMnRU-qp"
      },
      "source": [
        "**/03_fahrenheit_to_celsius**\n",
        "Problem Statement\n",
        "Write a program which prompts the user for a temperature in Fahrenheit (this can be a number with decimal places!) and outputs the temperature converted to Celsius.\n",
        "\n",
        "The Celsius scale is widely used to measure temperature, but places still use Fahrenheit. Fahrenheit is another unit for temperature, but the scale is different from Celsius -- for example, 0 degrees Celsius is 32 degrees Fahrenheit!\n",
        "\n",
        "The equation you should use for converting from Fahrenheit to Celsius is the following:\n",
        "\n",
        "degrees_celsius = (degrees_fahrenheit - 32) * 5.0/9.0\n",
        "\n",
        "(Note. The .0 after the 5 and 9 matters in the line above!!!)\n",
        "\n",
        "Here's a sample run of the program (user input is in bold italics):\n",
        "\n",
        "Enter temperature in Fahrenheit: 76\n",
        "\n",
        "Temperature: 76.0F = 24.444444444444443C\n"
      ]
    },
    {
      "cell_type": "code",
      "execution_count": null,
      "metadata": {
        "colab": {
          "base_uri": "https://localhost:8080/",
          "height": 50
        },
        "id": "oV-mxRSaVNCJ",
        "outputId": "88af2eba-ba12-4699-b1a2-776f7be44b69"
      },
      "outputs": [
        {
          "name": "stdout",
          "output_type": "stream",
          "text": [
            "Enter temperature in Fahrenheit: 102\n"
          ]
        },
        {
          "data": {
            "text/html": [
              "<pre style=\"white-space:pre;overflow-x:auto;line-height:normal;font-family:Menlo,'DejaVu Sans Mono',consolas,'Courier New',monospace\">Temperature: <span style=\"color: #008080; text-decoration-color: #008080; font-weight: bold\">102.</span>0F = <span style=\"color: #c0c0c0; text-decoration-color: #c0c0c0; background-color: #808000; font-weight: bold\"> </span><span style=\"color: #c0c0c0; text-decoration-color: #c0c0c0; background-color: #808000; font-weight: bold\">38.</span><span style=\"color: #c0c0c0; text-decoration-color: #c0c0c0; background-color: #808000; font-weight: bold\">888888888888886C</span>\n",
              "</pre>\n"
            ],
            "text/plain": [
              "Temperature: \u001b[1;36m102.\u001b[0m0F = \u001b[1;37;43m \u001b[0m\u001b[1;37;43m38.\u001b[0m\u001b[1;37;43m888888888888886C\u001b[0m\n"
            ]
          },
          "metadata": {},
          "output_type": "display_data"
        }
      ],
      "source": [
        "from rich import print\n",
        "\n",
        "def main():\n",
        "  fahrenheit = float(input(\"Enter temperature in Fahrenheit: \"))\n",
        "\n",
        "\n",
        "  degree_celsius = (fahrenheit - 32) * 5.0/9.0\n",
        "\n",
        "  print(f\"Temperature: {fahrenheit}F = [bold white on yellow] {degree_celsius}C[/bold white on yellow]\")\n",
        "\n",
        "if __name__ == \"__main__\":\n",
        "  main()"
      ]
    },
    {
      "cell_type": "markdown",
      "metadata": {
        "id": "_uoS8C4JaNyr"
      },
      "source": [
        "**04_how_old_are_they**"
      ]
    },
    {
      "cell_type": "markdown",
      "metadata": {
        "id": "7vOUGCclaRHR"
      },
      "source": [
        "Write a program to solve this age-related riddle!\n",
        "\n",
        "Anton, Beth, Chen, Drew, and Ethan are all friends. Their ages are as follows:\n",
        "\n",
        "Anton is 21 years old.\n",
        "\n",
        "Beth is 6 years older than Anton.\n",
        "\n",
        "Chen is 20 years older than Beth.\n",
        "\n",
        "Drew is as old as Chen's age plus Anton's age.\n",
        "\n",
        "Ethan is the same age as Chen.\n",
        "\n",
        "Your code should store each person's age to a variable and print their names and ages at the end. The autograder is sensitive to capitalization and punctuation, be careful! Your solution should look like this (the below numbers are made up -- your solution should have the correct values!):"
      ]
    },
    {
      "cell_type": "code",
      "execution_count": null,
      "metadata": {
        "colab": {
          "base_uri": "https://localhost:8080/",
          "height": 97
        },
        "id": "rLLHfgDJax08",
        "outputId": "71ed91f7-c579-4f2e-f05c-968de11c85ed"
      },
      "outputs": [
        {
          "data": {
            "text/html": [
              "<pre style=\"white-space:pre;overflow-x:auto;line-height:normal;font-family:Menlo,'DejaVu Sans Mono',consolas,'Courier New',monospace\">Anton is <span style=\"color: #008080; text-decoration-color: #008080; font-weight: bold\">21</span> years old.\n",
              "</pre>\n"
            ],
            "text/plain": [
              "Anton is \u001b[1;36m21\u001b[0m years old.\n"
            ]
          },
          "metadata": {},
          "output_type": "display_data"
        },
        {
          "data": {
            "text/html": [
              "<pre style=\"white-space:pre;overflow-x:auto;line-height:normal;font-family:Menlo,'DejaVu Sans Mono',consolas,'Courier New',monospace\">Beth is <span style=\"color: #008080; text-decoration-color: #008080; font-weight: bold\">27</span> years old.\n",
              "</pre>\n"
            ],
            "text/plain": [
              "Beth is \u001b[1;36m27\u001b[0m years old.\n"
            ]
          },
          "metadata": {},
          "output_type": "display_data"
        },
        {
          "data": {
            "text/html": [
              "<pre style=\"white-space:pre;overflow-x:auto;line-height:normal;font-family:Menlo,'DejaVu Sans Mono',consolas,'Courier New',monospace\">Chen is <span style=\"color: #008080; text-decoration-color: #008080; font-weight: bold\">47</span> years old.\n",
              "</pre>\n"
            ],
            "text/plain": [
              "Chen is \u001b[1;36m47\u001b[0m years old.\n"
            ]
          },
          "metadata": {},
          "output_type": "display_data"
        },
        {
          "data": {
            "text/html": [
              "<pre style=\"white-space:pre;overflow-x:auto;line-height:normal;font-family:Menlo,'DejaVu Sans Mono',consolas,'Courier New',monospace\">Drew is <span style=\"color: #008080; text-decoration-color: #008080; font-weight: bold\">68</span> years old.\n",
              "</pre>\n"
            ],
            "text/plain": [
              "Drew is \u001b[1;36m68\u001b[0m years old.\n"
            ]
          },
          "metadata": {},
          "output_type": "display_data"
        },
        {
          "data": {
            "text/html": [
              "<pre style=\"white-space:pre;overflow-x:auto;line-height:normal;font-family:Menlo,'DejaVu Sans Mono',consolas,'Courier New',monospace\">Ethan is <span style=\"color: #008080; text-decoration-color: #008080; font-weight: bold\">47</span> years old.\n",
              "</pre>\n"
            ],
            "text/plain": [
              "Ethan is \u001b[1;36m47\u001b[0m years old.\n"
            ]
          },
          "metadata": {},
          "output_type": "display_data"
        }
      ],
      "source": [
        "from rich import print\n",
        "def main():\n",
        "    anton : int = 21  # Anton's age is given as 21 years old\n",
        "    beth : int = 6 + anton  # Beth is 6 years older than Anton, so add 6 to Anton's age to get Beth's\n",
        "    chen : int = 20 + beth  # Chen is 20 years older than Beth, so add 20 to Beth's age to get Chen's\n",
        "    drew  : int= chen + anton  # Drew is as old as Chen's age plus Anton's age, so add them together\n",
        "    ethan : int = chen  # Ethan is the same age as Chen, so set Ethan's age equal to Chen's\n",
        "\n",
        "   # Print out all of the ages!\n",
        "    print(f\"Anton is {anton} years old.\")\n",
        "    print(f\"Beth is {beth} years old.\")\n",
        "    print(f\"Chen is {chen} years old.\")\n",
        "    print(f\"Drew is {drew} years old.\")\n",
        "    print(f\"Ethan is {ethan} years old.\")\n",
        "if __name__ == \"__main__\":\n",
        "    main()"
      ]
    },
    {
      "cell_type": "markdown",
      "metadata": {
        "id": "4MQcSsPGit3V"
      },
      "source": [
        "**05_triangle_perimeter.md**"
      ]
    },
    {
      "cell_type": "markdown",
      "metadata": {
        "id": "7rG_X4FUixY8"
      },
      "source": [
        "Prompt the user to enter the lengths of each side of a triangle and then calculate and print the perimeter of the triangle (the sum of all of the side lengths).\n",
        "\n",
        "Here's a sample run of the program (user input is in bold italics):\n",
        "\n",
        "What is the length of side 1? 3\n",
        "\n",
        "What is the length of side 2? 4\n",
        "\n",
        "What is the length of side 3? 5.5\n",
        "\n",
        "The perimeter of the triangle is 12.5"
      ]
    },
    {
      "cell_type": "code",
      "execution_count": null,
      "metadata": {
        "colab": {
          "base_uri": "https://localhost:8080/",
          "height": 85
        },
        "id": "dHX6MyoAi2Kc",
        "outputId": "3aee17d5-9685-4e06-f27e-9147314c2475"
      },
      "outputs": [
        {
          "name": "stdout",
          "output_type": "stream",
          "text": [
            "What is the length of angle_1? 10\n",
            "What is the length of angle_2? 12\n",
            "What is the length of angle_3? 13\n"
          ]
        },
        {
          "data": {
            "text/html": [
              "<pre style=\"white-space:pre;overflow-x:auto;line-height:normal;font-family:Menlo,'DejaVu Sans Mono',consolas,'Courier New',monospace\">\n",
              "                         <span style=\"color: #000080; text-decoration-color: #000080; font-weight: bold; font-style: italic\">The perimeter of the triangle is </span><span style=\"color: #c0c0c0; text-decoration-color: #c0c0c0; background-color: #000080; font-weight: bold; font-style: italic\"> 35.0 </span>\n",
              "</pre>\n"
            ],
            "text/plain": [
              "\n",
              "                         \u001b[1;3;34mThe perimeter of the triangle is \u001b[0m\u001b[1;3;37;44m \u001b[0m\u001b[1;3;37;44m35.0\u001b[0m\u001b[1;3;37;44m \u001b[0m\n"
            ]
          },
          "metadata": {},
          "output_type": "display_data"
        }
      ],
      "source": [
        "from rich import print\n",
        "\n",
        "def main():\n",
        "    # Get the 3 side lengths of the triangle\n",
        "    angle_1: float = float(input(\"What is the length of angle_1? \"))\n",
        "    angle_2: float = float(input(\"What is the length of angle_2? \"))\n",
        "    angle_3: float = float(input(\"What is the length of angle_3? \"))\n",
        "\n",
        "    perimeter = angle_1 + angle_2 + angle_3\n",
        "\n",
        "\n",
        "    print(f\"\\n\\t\\t\\t [bold italic blue]The perimeter of the triangle is [bold white on blue] {perimeter} [/bold white on blue][/bold italic blue]\")\n",
        "\n",
        "\n",
        "if __name__ == '__main__':\n",
        "    main()"
      ]
    },
    {
      "cell_type": "markdown",
      "metadata": {
        "id": "WHTAUxkOmwS7"
      },
      "source": [
        "**06_square_number**"
      ]
    },
    {
      "cell_type": "markdown",
      "metadata": {
        "id": "vTt70cNymzK6"
      },
      "source": [
        "Ask the user for a number and print its square (the product of the number times itself).\n",
        "Here's a sample run of the program (user input is in bold italics):\n",
        "Type a number to see its square: 4\n",
        "4.0 squared is 16.0"
      ]
    },
    {
      "cell_type": "code",
      "execution_count": null,
      "metadata": {
        "colab": {
          "base_uri": "https://localhost:8080/",
          "height": 50
        },
        "id": "uQTUX5VIm3mE",
        "outputId": "ec76d2df-bac6-4165-f395-13e4c12a21dc"
      },
      "outputs": [
        {
          "name": "stdout",
          "output_type": "stream",
          "text": [
            "Enter a Number to see it's square: 12\n"
          ]
        },
        {
          "data": {
            "text/html": [
              "<pre style=\"white-space:pre;overflow-x:auto;line-height:normal;font-family:Menlo,'DejaVu Sans Mono',consolas,'Courier New',monospace\">\n",
              "                          <span style=\"font-weight: bold; font-style: italic\"> </span><span style=\"color: #008080; text-decoration-color: #008080; font-weight: bold; font-style: italic\">12.0</span><span style=\"font-weight: bold; font-style: italic\"> is Squared, </span><span style=\"color: #008080; text-decoration-color: #008080; font-weight: bold; font-style: italic\">144.0</span><span style=\"font-weight: bold; font-style: italic\"> </span>\n",
              "</pre>\n"
            ],
            "text/plain": [
              "\n",
              "                          \u001b[1;3m \u001b[0m\u001b[1;3;36m12.0\u001b[0m\u001b[1;3m is Squared, \u001b[0m\u001b[1;3;36m144.0\u001b[0m\u001b[1;3m \u001b[0m\n"
            ]
          },
          "metadata": {},
          "output_type": "display_data"
        }
      ],
      "source": [
        "from rich import print\n",
        "def main():\n",
        "  number = float(input(\"Enter a Number to see it's square: \"))\n",
        "\n",
        "  square = number * number\n",
        "\n",
        "  print( f\"\\n\\t\\t\\t  [bold italic] {number} is Squared, {square} [/bold italic]\")\n",
        "\n",
        "if __name__ == '__main__':\n",
        "    main()\n"
      ]
    },
    {
      "cell_type": "markdown",
      "metadata": {
        "id": "r3Pfze7jvKR0"
      },
      "source": [
        "**Program: dicesimulator\n",
        "----------------------\n",
        "Simulate rolling two dice, three times.  Prints\n",
        "the results of each die roll.  This program is used\n",
        "to show how variable scope works.\n",
        "\"\"\"**"
      ]
    },
    {
      "cell_type": "code",
      "execution_count": null,
      "metadata": {
        "colab": {
          "base_uri": "https://localhost:8080/",
          "height": 67
        },
        "id": "4ip8vkl_skkF",
        "outputId": "1e08a72e-1c41-4406-9773-aa1fd104cfb1"
      },
      "outputs": [
        {
          "data": {
            "text/html": [
              "<pre style=\"white-space:pre;overflow-x:auto;line-height:normal;font-family:Menlo,'DejaVu Sans Mono',consolas,'Courier New',monospace\">Round <span style=\"color: #008080; text-decoration-color: #008080; font-weight: bold\">1</span>: 🎲  Dice_1: <span style=\"color: #008080; text-decoration-color: #008080; font-weight: bold\">6</span>, Dice_2: <span style=\"color: #008080; text-decoration-color: #008080; font-weight: bold\">2</span> <span style=\"font-weight: bold\">(</span>Total : Dice_1 + Dice_2<span style=\"font-weight: bold\">)</span> \n",
              "</pre>\n"
            ],
            "text/plain": [
              "Round \u001b[1;36m1\u001b[0m: 🎲  Dice_1: \u001b[1;36m6\u001b[0m, Dice_2: \u001b[1;36m2\u001b[0m \u001b[1m(\u001b[0mTotal : Dice_1 + Dice_2\u001b[1m)\u001b[0m \n"
            ]
          },
          "metadata": {},
          "output_type": "display_data"
        },
        {
          "data": {
            "text/html": [
              "<pre style=\"white-space:pre;overflow-x:auto;line-height:normal;font-family:Menlo,'DejaVu Sans Mono',consolas,'Courier New',monospace\">Round <span style=\"color: #008080; text-decoration-color: #008080; font-weight: bold\">2</span>: 🎲  Dice_1: <span style=\"color: #008080; text-decoration-color: #008080; font-weight: bold\">5</span>, Dice_2: <span style=\"color: #008080; text-decoration-color: #008080; font-weight: bold\">2</span> <span style=\"font-weight: bold\">(</span>Total : Dice_1 + Dice_2<span style=\"font-weight: bold\">)</span> \n",
              "</pre>\n"
            ],
            "text/plain": [
              "Round \u001b[1;36m2\u001b[0m: 🎲  Dice_1: \u001b[1;36m5\u001b[0m, Dice_2: \u001b[1;36m2\u001b[0m \u001b[1m(\u001b[0mTotal : Dice_1 + Dice_2\u001b[1m)\u001b[0m \n"
            ]
          },
          "metadata": {},
          "output_type": "display_data"
        },
        {
          "data": {
            "text/html": [
              "<pre style=\"white-space:pre;overflow-x:auto;line-height:normal;font-family:Menlo,'DejaVu Sans Mono',consolas,'Courier New',monospace\">Round <span style=\"color: #008080; text-decoration-color: #008080; font-weight: bold\">3</span>: 🎲  Dice_1: <span style=\"color: #008080; text-decoration-color: #008080; font-weight: bold\">4</span>, Dice_2: <span style=\"color: #008080; text-decoration-color: #008080; font-weight: bold\">3</span> <span style=\"font-weight: bold\">(</span>Total : Dice_1 + Dice_2<span style=\"font-weight: bold\">)</span> \n",
              "</pre>\n"
            ],
            "text/plain": [
              "Round \u001b[1;36m3\u001b[0m: 🎲  Dice_1: \u001b[1;36m4\u001b[0m, Dice_2: \u001b[1;36m3\u001b[0m \u001b[1m(\u001b[0mTotal : Dice_1 + Dice_2\u001b[1m)\u001b[0m \n"
            ]
          },
          "metadata": {},
          "output_type": "display_data"
        }
      ],
      "source": [
        "import random\n",
        "\n",
        "def roll_dice():\n",
        "  return random.randint(1, 6)\n",
        "\n",
        "def main():\n",
        "  for round_main in range(1,4): # loop for 3 rounds\n",
        "    dice_1 = roll_dice()\n",
        "    dice_2 = roll_dice()\n",
        "    print(f\"Round {round_main}: 🎲  Dice_1: {dice_1}, Dice_2: {dice_2} (Total : Dice_1 + Dice_2) \")\n",
        "\n",
        "\n",
        "if __name__ == '__main__':\n",
        "    main()"
      ]
    },
    {
      "cell_type": "markdown",
      "metadata": {
        "id": "6vqLVBN8csA9"
      },
      "source": [
        "**02_e=mc2**"
      ]
    },
    {
      "cell_type": "markdown",
      "metadata": {
        "id": "02LiQoQjd0eS"
      },
      "source": [
        "E = m*c**2\n",
        "constant = 29979458\n",
        "mass = float(input(\"Please Enter mass in Kg\"))\n",
        "e = m*c**2\n",
        "\n",
        "m = 100.0kg\n",
        "c = 299792458 m/s"
      ]
    },
    {
      "cell_type": "code",
      "execution_count": null,
      "metadata": {
        "colab": {
          "base_uri": "https://localhost:8080/"
        },
        "id": "QEQbVQzkN5kB",
        "outputId": "4e97053b-4cf1-4aad-df99-1597606e2a12"
      },
      "outputs": [
        {
          "name": "stdout",
          "output_type": "stream",
          "text": [
            "e = mc^2...\n",
            "\n",
            "Please Enter mass in Kg: 100\n",
            "\n",
            " Mass in Kg 100.0 \n",
            "\n",
            "Speed of Light(Constatn) 299792458 \n",
            "\n",
            "Energy =  8.987551787368176e+18 joules of energy\n",
            "\n",
            "Energy = 8.99e+18joules\n"
          ]
        }
      ],
      "source": [
        "C = 299792458 # Constant value (speed of light)\n",
        "\n",
        "def main():\n",
        "    print(\"e = mc^2...\\n\")\n",
        "\n",
        "    mass : float = float(input(\"Please Enter mass in Kg: \" , ))\n",
        "\n",
        "    print(\"\\n Mass in Kg\",mass,\"\\n\")\n",
        "\n",
        "    print(\"Speed of Light(Constatn)\", C , \"\\n\")\n",
        "\n",
        "    energy : float = float( mass * C**2)\n",
        "\n",
        "    print(\"Energy = \", energy ,\"joules of energy\\n\")\n",
        "\n",
        "    formatted_E = \"{:.2e}\".format(energy)  # Formats to 2 decimal places in scientific notation\n",
        "\n",
        "    print(f\"Energy = {formatted_E}joules\")\n",
        "\n",
        "if __name__ == '__main__':\n",
        "    main()\n",
        "\n",
        "\n",
        "\n"
      ]
    },
    {
      "cell_type": "markdown",
      "metadata": {
        "id": "bXOFU1wQXpV8"
      },
      "source": [
        "**03_feet_to_inches**"
      ]
    },
    {
      "cell_type": "code",
      "execution_count": null,
      "metadata": {
        "colab": {
          "base_uri": "https://localhost:8080/"
        },
        "id": "-H90duoeXo_L",
        "outputId": "877a1318-c367-4d0c-e92c-2c786cc7a4c2"
      },
      "outputs": [
        {
          "name": "stdout",
          "output_type": "stream",
          "text": [
            "Enter number of feet:   4\n",
            "\n",
            "\t\t\t That is 48.0 inches!\n"
          ]
        }
      ],
      "source": [
        "\n",
        "\n",
        "\n",
        "def feet_to_inches():\n",
        "  feet : float = float(input(\"Enter number of feet:   \"))\n",
        "  inches : float = feet * 12\n",
        "  print(\"\\n\\t\\t\\t That is\", inches, \"inches!\")\n",
        "\n",
        "if __name__ == '__main__':\n",
        "  feet_to_inches()"
      ]
    },
    {
      "cell_type": "markdown",
      "metadata": {
        "id": "OgkIUl-dZgfv"
      },
      "source": [
        "**04_pythagorean_theorem**"
      ]
    },
    {
      "cell_type": "code",
      "execution_count": null,
      "metadata": {
        "colab": {
          "base_uri": "https://localhost:8080/"
        },
        "id": "gbbov0N_ZofD",
        "outputId": "114853a0-a21a-405a-f7d6-87e57faf0458"
      },
      "outputs": [
        {
          "name": "stdout",
          "output_type": "stream",
          "text": [
            "Pythagorean Theorem Calculator\n",
            "\n",
            "Enter the Lengths of AB:  14\n",
            "\n",
            "\tEnter the length of AC:   13\n",
            "\n",
            "\t\t The Length of BC (THE Hypotenuse) is:  19.10,inch\n"
          ]
        }
      ],
      "source": [
        "import math\n",
        "\n",
        "def main():\n",
        "    print(\"Pythagorean Theorem Calculator\\n\")\n",
        "    ab : float = float(input(\"Enter the Lengths of AB:  \"))\n",
        "    ac : float = float(input(\"\\n\\tEnter the length of AC:   \"))\n",
        "\n",
        "    #calculate the hypotenuse using the two sides and print it out\n",
        "    bc : float = math.sqrt(ab**2 + ac**2)\n",
        "    formatted_bc = \"{:.2f}\".format(bc)\n",
        "    print(f\"\\n\\t\\t The Length of BC (THE Hypotenuse) is:  {formatted_bc}inch\")\n",
        "\n",
        "\n",
        "if __name__ == '__main__':\n",
        "    main()\n"
      ]
    },
    {
      "cell_type": "markdown",
      "metadata": {
        "id": "FBc3F-xReaGX"
      },
      "source": [
        "**05_remainder_division**"
      ]
    },
    {
      "cell_type": "code",
      "execution_count": null,
      "metadata": {
        "colab": {
          "base_uri": "https://localhost:8080/",
          "height": 101
        },
        "id": "RYYM88WPeZmh",
        "outputId": "1d17d34d-99f8-4114-d1f3-028664ea4acd"
      },
      "outputs": [
        {
          "name": "stdout",
          "output_type": "stream",
          "text": [
            "Please Enter a number to be Divided:  15\n",
            "\n",
            "\t1 Please Enter a number to be Divid by: 3\n"
          ]
        },
        {
          "data": {
            "text/html": [
              "<pre style=\"white-space:pre;overflow-x:auto;line-height:normal;font-family:Menlo,'DejaVu Sans Mono',consolas,'Courier New',monospace\">\n",
              "\n",
              "                                The result of this division is <span style=\"color: #008080; text-decoration-color: #008080; font-weight: bold\">5</span> with a remainder of <span style=\"color: #008080; text-decoration-color: #008080; font-weight: bold\">0</span>\n",
              "</pre>\n"
            ],
            "text/plain": [
              "\n",
              "\n",
              "                                The result of this division is \u001b[1;36m5\u001b[0m with a remainder of \u001b[1;36m0\u001b[0m\n"
            ]
          },
          "metadata": {},
          "output_type": "display_data"
        }
      ],
      "source": [
        "from rich import print\n",
        "\n",
        "\n",
        "def main():\n",
        "  dividend : int = int(input(\"Please Enter a number to be Divided:  \"))\n",
        "  divisor : int = int(input(\"\\n\\t1 Please Enter a number to be Divid by: \" ))\n",
        "\n",
        "\n",
        "  quotient: int = dividend // divisor  # Divide with no remainder/decimals (integer division)\n",
        "  remainder: int = dividend % divisor  # Get the remainder of the division (modulo)\n",
        "\n",
        "  print(\"\\n\\n\\t\\t\\t\\tThe result of this division is \" + str(quotient) + \" with a remainder of \" + str(remainder))\n",
        "\n",
        "\n",
        "if __name__ == '__main__':\n",
        "    main()\n",
        "\n"
      ]
    },
    {
      "cell_type": "markdown",
      "metadata": {
        "id": "8wVDUAf2imgb"
      },
      "source": [
        "**06_rolldice**"
      ]
    },
    {
      "cell_type": "code",
      "execution_count": null,
      "metadata": {
        "colab": {
          "base_uri": "https://localhost:8080/",
          "height": 129
        },
        "id": "PZnv69Ljiq8b",
        "outputId": "0e55c51f-0711-41e6-e36c-0259e5e52369"
      },
      "outputs": [
        {
          "data": {
            "text/html": [
              "<pre style=\"white-space:pre;overflow-x:auto;line-height:normal;font-family:Menlo,'DejaVu Sans Mono',consolas,'Courier New',monospace\">🎲Dice have <span style=\"color: #008080; text-decoration-color: #008080; font-weight: bold\">6</span> sides each.\n",
              "</pre>\n"
            ],
            "text/plain": [
              "🎲Dice have \u001b[1;36m6\u001b[0m sides each.\n"
            ]
          },
          "metadata": {},
          "output_type": "display_data"
        },
        {
          "data": {
            "text/html": [
              "<pre style=\"white-space:pre;overflow-x:auto;line-height:normal;font-family:Menlo,'DejaVu Sans Mono',consolas,'Courier New',monospace\">\n",
              "\n",
              "        🎲Fist Dice: <span style=\"color: #008080; text-decoration-color: #008080; font-weight: bold\">6</span>\n",
              "</pre>\n"
            ],
            "text/plain": [
              "\n",
              "\n",
              "        🎲Fist Dice: \u001b[1;36m6\u001b[0m\n"
            ]
          },
          "metadata": {},
          "output_type": "display_data"
        },
        {
          "data": {
            "text/html": [
              "<pre style=\"white-space:pre;overflow-x:auto;line-height:normal;font-family:Menlo,'DejaVu Sans Mono',consolas,'Courier New',monospace\">\n",
              "\n",
              "        🎲Second Dice: <span style=\"color: #008080; text-decoration-color: #008080; font-weight: bold\">1</span>\n",
              "</pre>\n"
            ],
            "text/plain": [
              "\n",
              "\n",
              "        🎲Second Dice: \u001b[1;36m1\u001b[0m\n"
            ]
          },
          "metadata": {},
          "output_type": "display_data"
        },
        {
          "data": {
            "text/html": [
              "<pre style=\"white-space:pre;overflow-x:auto;line-height:normal;font-family:Menlo,'DejaVu Sans Mono',consolas,'Courier New',monospace\"> \n",
              "                        🚀Total of the two dice: <span style=\"color: #008080; text-decoration-color: #008080; font-weight: bold\">7</span>\n",
              "</pre>\n"
            ],
            "text/plain": [
              " \n",
              "                        🚀Total of the two dice: \u001b[1;36m7\u001b[0m\n"
            ]
          },
          "metadata": {},
          "output_type": "display_data"
        }
      ],
      "source": [
        "import random\n",
        "\n",
        "num_side : int = 6\n",
        "\n",
        "def main():\n",
        "\n",
        "\n",
        "  die1 : int = random.randint(1, num_side)\n",
        "  die2: int = random.randint(1, num_side)\n",
        "\n",
        "  total : int = die1 + die2\n",
        "\n",
        "  print(\"🎲Dice have\", num_side, \"sides each.\")\n",
        "  print(\"\\n\\n\\t🎲Fist Dice:\", die1)\n",
        "  print(\"\\n\\n\\t🎲Second Dice:\", die2)\n",
        "  print(\" \\n\\t\\t\\t🚀Total of the two dice:\", total)\n",
        "\n",
        "if __name__ == '__main__':\n",
        "    main()"
      ]
    },
    {
      "cell_type": "markdown",
      "metadata": {
        "id": "B4OpFczBlnJq"
      },
      "source": [
        "**06_seconds_in_year.**"
      ]
    },
    {
      "cell_type": "code",
      "execution_count": null,
      "metadata": {
        "colab": {
          "base_uri": "https://localhost:8080/",
          "height": 161
        },
        "id": "LFuW6oqmlrOw",
        "outputId": "941b51ec-d712-4489-f3bf-9ddcfe1ca55d"
      },
      "outputs": [
        {
          "data": {
            "text/html": [
              "<pre style=\"white-space:pre;overflow-x:auto;line-height:normal;font-family:Menlo,'DejaVu Sans Mono',consolas,'Courier New',monospace\">\n",
              "\n",
              "\n",
              "                         There are  <span style=\"color: #008080; text-decoration-color: #008080; font-weight: bold\">8760</span> Hours in a year.\n",
              "</pre>\n"
            ],
            "text/plain": [
              "\n",
              "\n",
              "\n",
              "                         There are  \u001b[1;36m8760\u001b[0m Hours in a year.\n"
            ]
          },
          "metadata": {},
          "output_type": "display_data"
        },
        {
          "data": {
            "text/html": [
              "<pre style=\"white-space:pre;overflow-x:auto;line-height:normal;font-family:Menlo,'DejaVu Sans Mono',consolas,'Courier New',monospace\">\n",
              "\n",
              "\n",
              "                         There are  <span style=\"color: #008080; text-decoration-color: #008080; font-weight: bold\">525600</span> Minutes in a year.\n",
              "</pre>\n"
            ],
            "text/plain": [
              "\n",
              "\n",
              "\n",
              "                         There are  \u001b[1;36m525600\u001b[0m Minutes in a year.\n"
            ]
          },
          "metadata": {},
          "output_type": "display_data"
        },
        {
          "data": {
            "text/html": [
              "<pre style=\"white-space:pre;overflow-x:auto;line-height:normal;font-family:Menlo,'DejaVu Sans Mono',consolas,'Courier New',monospace\">\n",
              "\n",
              "\n",
              "                         There are  <span style=\"color: #008080; text-decoration-color: #008080; font-weight: bold\">31536000</span> seconds in a year.\n",
              "</pre>\n"
            ],
            "text/plain": [
              "\n",
              "\n",
              "\n",
              "                         There are  \u001b[1;36m31536000\u001b[0m seconds in a year.\n"
            ]
          },
          "metadata": {},
          "output_type": "display_data"
        }
      ],
      "source": [
        "\n",
        "\n",
        "DAYS_PER_YEAR: int = 365\n",
        "HOURS_PER_DAY: int = 24\n",
        "MIN_PER_HOUR: int = 60\n",
        "SEC_PER_MIN: int = 60\n",
        "\n",
        "def main():\n",
        "\n",
        "  print(\"\\n\\n\\n\\t\\t\\t There are \", DAYS_PER_YEAR * HOURS_PER_DAY , \"Hours in a year.\")\n",
        "  print(\"\\n\\n\\n\\t\\t\\t There are \", DAYS_PER_YEAR * HOURS_PER_DAY * MIN_PER_HOUR, \"Minutes in a year.\")\n",
        "  print(\"\\n\\n\\n\\t\\t\\t There are \", DAYS_PER_YEAR * HOURS_PER_DAY * MIN_PER_HOUR * SEC_PER_MIN, \"seconds in a year.\")\n",
        "\n",
        "if __name__ == '__main__':\n",
        "    main()"
      ]
    },
    {
      "cell_type": "markdown",
      "metadata": {
        "id": "7hRk9BNpp4o5"
      },
      "source": [
        "**07_tiny_mad_lib**"
      ]
    },
    {
      "cell_type": "code",
      "execution_count": null,
      "metadata": {
        "colab": {
          "base_uri": "https://localhost:8080/",
          "height": 118
        },
        "id": "_fgq8fEep9BN",
        "outputId": "cb8cdb00-a062-4f50-d726-3a46e6db5423"
      },
      "outputs": [
        {
          "name": "stdout",
          "output_type": "stream",
          "text": [
            "Please Enter an Adjective and press Enter: AGENTIC\n",
            "Please Enter a Noun and press Enter: AI \n",
            "Please Enter a Verb and press Enter: AGENTS\n",
            "Please Enter an adverb and press Enter: Special Thanks To SIR ZIA KHAN\n"
          ]
        },
        {
          "data": {
            "text/html": [
              "<pre style=\"white-space:pre;overflow-x:auto;line-height:normal;font-family:Menlo,'DejaVu Sans Mono',consolas,'Courier New',monospace\">\n",
              "                         <span style=\"color: #000080; text-decoration-color: #000080; font-weight: bold; font-style: italic\">   PANAVERSITY IS FOUNDED BY SIR ZIA KHAN. I've learned to code, and used Python to build </span>\n",
              "<span style=\"color: #000080; text-decoration-color: #000080; font-weight: bold; font-style: italic\">New   AGENTIC AI  AGENTS Special Thanks To SIR ZIA KHAN </span>\n",
              "</pre>\n"
            ],
            "text/plain": [
              "\n",
              "                         \u001b[1;3;34m   PANAVERSITY IS FOUNDED BY SIR ZIA KHAN. I've learned to code, and used Python to build \u001b[0m\n",
              "\u001b[1;3;34mNew   AGENTIC AI  AGENTS Special Thanks To SIR ZIA KHAN \u001b[0m\n"
            ]
          },
          "metadata": {},
          "output_type": "display_data"
        }
      ],
      "source": [
        "from rich import print\n",
        "\n",
        "SENTENCE_START = \"PANAVERSITY IS FOUNDED BY SIR ZIA KHAN. I've learned to code, and used Python to build New  \"\n",
        "\n",
        "def tiny_mad_lib():\n",
        "  adjective : str = input(\"Please Enter an Adjective and press Enter: \")\n",
        "  noun : str = input(\"Please Enter a Noun and press Enter: \")\n",
        "  verb : str = input(\"Please Enter a Verb and press Enter: \")\n",
        "  adverb : str = input(\"Please Enter an adverb and press Enter: \")\n",
        "\n",
        "\n",
        "\n",
        "\n",
        "  print(f\"\\n\\t\\t\\t [bold italic blue]   {SENTENCE_START} {adjective} {noun} {verb} {adverb} [/bold italic blue]\")\n",
        "\n",
        "  # print()\n",
        "\n",
        "if __name__ == '__main__':\n",
        "  tiny_mad_lib()"
      ]
    },
    {
      "cell_type": "markdown",
      "metadata": {
        "id": "YUuoxHS3yBmE"
      },
      "source": [
        "**02_lists\n",
        "01_add_many_number**"
      ]
    },
    {
      "cell_type": "code",
      "execution_count": null,
      "metadata": {
        "colab": {
          "base_uri": "https://localhost:8080/"
        },
        "id": "hbXqp9mL5xyn",
        "outputId": "f2538ee7-82da-43e8-f37d-fd0b4c774824"
      },
      "outputs": [
        {
          "name": "stdout",
          "output_type": "stream",
          "text": [
            "Enter a number (or type 'stop' to finish): 10\n",
            "Enter a number (or type 'stop' to finish): 25\n",
            "Enter a number (or type 'stop' to finish): 25\n",
            "Enter a number (or type 'stop' to finish): 15\n",
            "Enter a number (or type 'stop' to finish): 36\n",
            "Enter a number (or type 'stop' to finish): 29\n",
            "Enter a number (or type 'stop' to finish): 4\n",
            "Enter a number (or type 'stop' to finish): 405\n",
            "Enter a number (or type 'stop' to finish): stop\n",
            "\n",
            "\t\t\t\t The sum of [10, 25, 25, 15, 36, 29, 4, 405] is: 549\n"
          ]
        }
      ],
      "source": [
        "def add_many_number(numbers: list[int]) -> int:\n",
        "    \"\"\"\n",
        "    Takes in a list of numbers and returns the sum of those numbers.\n",
        "    \"\"\"\n",
        "    total: int = sum(numbers)  # Using sum() for simplicity\n",
        "    return total\n",
        "\n",
        "def main():\n",
        "    numbers: list[int] = []  # List to store numbers\n",
        "\n",
        "    while True:\n",
        "        user_input = input(\"Enter a number (or type 'stop' to finish): \")\n",
        "\n",
        "        if user_input.lower() == \"stop\":  # Stop condition\n",
        "            break\n",
        "\n",
        "        try:\n",
        "            number = int(user_input)  # Convert input to integer\n",
        "            numbers.append(number)  # Add number to list\n",
        "        except ValueError:\n",
        "            print(\"Invalid input! Please enter a valid number.\")\n",
        "\n",
        "    # Calculate the sum\n",
        "    sum_of_numbers = add_many_number(numbers)\n",
        "\n",
        "    # Print the result in a user-friendly way\n",
        "    print(f\"\\n\\t\\t\\t\\t 1The sum of {numbers} is: {sum_of_numbers}\")\n",
        "\n",
        "if __name__ == \"__main__\":\n",
        "    main()\n"
      ]
    },
    {
      "cell_type": "markdown",
      "metadata": {
        "id": "5kQR0oHz7LIl"
      },
      "source": [
        "**02_double_list**"
      ]
    },
    {
      "cell_type": "code",
      "execution_count": null,
      "metadata": {
        "colab": {
          "base_uri": "https://localhost:8080/"
        },
        "id": "17Gj_Pxy7KlV",
        "outputId": "e0cb9c0f-c349-40cb-e455-1de3d8ea7974"
      },
      "outputs": [
        {
          "name": "stdout",
          "output_type": "stream",
          "text": [
            "[12, 16, 18, 24]\n"
          ]
        }
      ],
      "source": [
        "def main():\n",
        "    numbers: list[int] = [6, 8, 9, 12]  # Creates a list of numbers\n",
        "\n",
        "    for i in range(len(numbers)):  # Loop through the indices of the list\n",
        "        elem_at_index = numbers[i]  # Get the element at index i in the numbers list\n",
        "        numbers[i] = elem_at_index * 2  # Set the element at index i to be equal to the previous element times 2\n",
        "\n",
        "    print(numbers)  # This should print the doubled list\n",
        "\n",
        "\n",
        "# There is no need to edit code beyond this point\n",
        "\n",
        "if __name__ == '__main__':\n",
        "    main()"
      ]
    },
    {
      "cell_type": "markdown",
      "metadata": {
        "id": "jK_SFjFuH43U"
      },
      "source": [
        "**03_erase_canvas**"
      ]
    },
    {
      "cell_type": "code",
      "execution_count": null,
      "metadata": {
        "id": "VZKnRTDYH-07"
      },
      "outputs": [],
      "source": [
        "from graphics import Canvas\n",
        "import time\n",
        "\n",
        "CANVAS_WIDTH : int = 400\n",
        "CANVAS_HIEGHT : int = 400\n",
        "\n",
        "CELL_SIZE : int = 40\n",
        "ERASER_SIZE : int = 20\n",
        "\n",
        "def erase_objects(canvas, eraser):\n",
        "  \"\"\"Eraser object in contact with the eraser\"\"\"\n",
        "  # Get mouse info to help us know which cell to delete"
      ]
    },
    {
      "cell_type": "markdown",
      "metadata": {
        "id": "BANfbTOxfo2x"
      },
      "source": [
        "**04_flowing_with_data_structures**"
      ]
    },
    {
      "cell_type": "code",
      "execution_count": null,
      "metadata": {
        "colab": {
          "base_uri": "https://localhost:8080/"
        },
        "id": "NwUGBdFIjALX",
        "outputId": "acef6ad7-4d88-4a8d-8a0d-efe8f2c1eef0"
      },
      "outputs": [
        {
          "name": "stdout",
          "output_type": "stream",
          "text": [
            "Enter text You want to copy:   Pakistan\n",
            "List before: []\n",
            "List after: ['Pakistan', 'Pakistan', 'Pakistan', 'Pakistan', 'Pakistan']\n"
          ]
        }
      ],
      "source": [
        "def add_three_copies(my_list, data):\n",
        "  for i in range(5):\n",
        "    my_list.append(data)\n",
        "\n",
        "\n",
        "def main():\n",
        "  message = input(\"Enter text You want to copy:   \")\n",
        "  my_list = []\n",
        "  print(\"List before:\", my_list)\n",
        "  add_three_copies(my_list, message)\n",
        "  print(\"List after:\", my_list)\n",
        "\n",
        "if __name__ == '__main__':\n",
        "  main()"
      ]
    },
    {
      "cell_type": "markdown",
      "metadata": {
        "id": "JFrH0qJpmAT8"
      },
      "source": [
        "**05_get_first_element**"
      ]
    },
    {
      "cell_type": "code",
      "execution_count": null,
      "metadata": {
        "colab": {
          "base_uri": "https://localhost:8080/"
        },
        "id": "xVqSf5PImGeD",
        "outputId": "03a74948-67ed-4a44-db86-42a860720c5c"
      },
      "outputs": [
        {
          "name": "stdout",
          "output_type": "stream",
          "text": [
            "Enter the word in a list:   zia kha\n",
            "['zia kha']\n",
            "Enter the word in a list:   qasim\n",
            "zia kha\n"
          ]
        }
      ],
      "source": [
        "def get_first_element(list):\n",
        "  \"\"\"\n",
        "  print the first element in the provided list\n",
        "  \"\"\"\n",
        "\n",
        "  print(list[0])\n",
        "\n",
        "def get_lst():\n",
        "  \"\"\"\n",
        "  Prompts the user to enter one element of the list at a time and returns the resulting list.\n",
        "  \"\"\"\n",
        "  lst = []\n",
        "  user_input = input(\"Enter the word in a list:   \")\n",
        "  lst.append(user_input)\n",
        "  print(lst)\n",
        "  while user_input != \"\":\n",
        "\n",
        "    lst.append(user_input)\n",
        "    user_input = input(\"Enter the word in a list:   \")\n",
        "    return lst\n",
        "\n",
        "\n",
        "\n",
        "\n",
        "def main():\n",
        "  lst = get_lst()\n",
        "  get_first_element(lst)\n",
        "\n",
        "\n",
        "\n",
        "\n",
        "if __name__ =='__main__':\n",
        "  main()"
      ]
    },
    {
      "cell_type": "markdown",
      "metadata": {
        "id": "_WFNhpHk-q5c"
      },
      "source": [
        "**06_get_last_element**"
      ]
    },
    {
      "cell_type": "code",
      "execution_count": null,
      "metadata": {
        "colab": {
          "base_uri": "https://localhost:8080/",
          "height": 332
        },
        "id": "PndHsIkb-sc5",
        "outputId": "63c2871c-2dd0-4d46-c21f-a08a0f6a22e7"
      },
      "outputs": [
        {
          "name": "stdout",
          "output_type": "stream",
          "text": [
            "Enter the word in a list:   awais\n"
          ]
        },
        {
          "ename": "TypeError",
          "evalue": "range expected at least 1 argument, got 0",
          "output_type": "error",
          "traceback": [
            "\u001b[0;31m---------------------------------------------------------------------------\u001b[0m",
            "\u001b[0;31mTypeError\u001b[0m                                 Traceback (most recent call last)",
            "\u001b[0;32m<ipython-input-4-45c35014a1ee>\u001b[0m in \u001b[0;36m<cell line: 0>\u001b[0;34m()\u001b[0m\n\u001b[1;32m     23\u001b[0m \u001b[0;34m\u001b[0m\u001b[0m\n\u001b[1;32m     24\u001b[0m \u001b[0;32mif\u001b[0m \u001b[0m__name__\u001b[0m \u001b[0;34m==\u001b[0m \u001b[0;34m'__main__'\u001b[0m\u001b[0;34m:\u001b[0m\u001b[0;34m\u001b[0m\u001b[0;34m\u001b[0m\u001b[0m\n\u001b[0;32m---> 25\u001b[0;31m   \u001b[0mget_lst\u001b[0m\u001b[0;34m(\u001b[0m\u001b[0;34m)\u001b[0m\u001b[0;34m\u001b[0m\u001b[0;34m\u001b[0m\u001b[0m\n\u001b[0m\u001b[1;32m     26\u001b[0m \u001b[0;34m\u001b[0m\u001b[0m\n",
            "\u001b[0;32m<ipython-input-4-45c35014a1ee>\u001b[0m in \u001b[0;36mget_lst\u001b[0;34m()\u001b[0m\n\u001b[1;32m      8\u001b[0m \u001b[0;34m\u001b[0m\u001b[0m\n\u001b[1;32m      9\u001b[0m     \u001b[0muser_input\u001b[0m \u001b[0;34m=\u001b[0m \u001b[0minput\u001b[0m\u001b[0;34m(\u001b[0m\u001b[0;34m\"Enter the word in a list:   \"\u001b[0m\u001b[0;34m)\u001b[0m\u001b[0;34m\u001b[0m\u001b[0;34m\u001b[0m\u001b[0m\n\u001b[0;32m---> 10\u001b[0;31m     \u001b[0;32mfor\u001b[0m \u001b[0mi\u001b[0m \u001b[0;32min\u001b[0m \u001b[0mrange\u001b[0m\u001b[0;34m(\u001b[0m\u001b[0;34m)\u001b[0m\u001b[0;34m:\u001b[0m\u001b[0;34m\u001b[0m\u001b[0;34m\u001b[0m\u001b[0m\n\u001b[0m\u001b[1;32m     11\u001b[0m       \u001b[0;32mif\u001b[0m \u001b[0muser_input\u001b[0m \u001b[0;34m==\u001b[0m \u001b[0;34m'stop'\u001b[0m\u001b[0;34m:\u001b[0m\u001b[0;34m\u001b[0m\u001b[0;34m\u001b[0m\u001b[0m\n\u001b[1;32m     12\u001b[0m         \u001b[0;32mbreak\u001b[0m\u001b[0;34m\u001b[0m\u001b[0;34m\u001b[0m\u001b[0m\n",
            "\u001b[0;31mTypeError\u001b[0m: range expected at least 1 argument, got 0"
          ]
        }
      ],
      "source": [
        "def get_lst():\n",
        "  \"\"\"\n",
        "  Prompts the user to enter one element of the list at a time and returns the resulting list.\n",
        "  \"\"\"\n",
        "  lst = []\n",
        "\n",
        "  while True:\n",
        "\n",
        "    user_input = input(\"Enter the word in a list:   \")\n",
        "    for i in range():\n",
        "      if user_input == 'stop':\n",
        "        break\n",
        "  lst.append(user_input)\n",
        "\n",
        "\n",
        "  def main():\n",
        "    print(lst)\n",
        "\n",
        "\n",
        "    print(lst.pop())\n",
        "\n",
        "\n",
        "\n",
        "\n",
        "if __name__ == '__main__':\n",
        "  get_lst()\n",
        "\n"
      ]
    },
    {
      "cell_type": "code",
      "execution_count": null,
      "metadata": {
        "id": "QnwMKexDCpjC"
      },
      "outputs": [],
      "source": [
        "def get_last_element(lst):\n",
        "\n",
        "  \"\"\" Prints the last element of the provided list. \"\"\"\n",
        "\n"
      ]
    },
    {
      "cell_type": "markdown",
      "metadata": {
        "id": "KM1scDl904go"
      },
      "source": [
        "**07_get_list**"
      ]
    },
    {
      "cell_type": "code",
      "execution_count": null,
      "metadata": {
        "colab": {
          "base_uri": "https://localhost:8080/"
        },
        "id": "weW87Ft91DUW",
        "outputId": "ed626c4b-6eac-4dfb-e1f4-f72f2c118f6e"
      },
      "outputs": [
        {
          "name": "stdout",
          "output_type": "stream",
          "text": [
            "Enter Fruit Name:  Apple\n",
            "Enter Your Favorite Fruit Name:  Mango\n",
            "Enter Your Favorite Fruit Name:  Banana\n",
            "Enter Your Favorite Fruit Name:  \n",
            "Here's is your Favorite Fruit ['Apple', 'Mango', 'Banana']\n"
          ]
        }
      ],
      "source": [
        "def main():\n",
        "  fruit_list = []\n",
        "\n",
        "  name = input(\"Enter Fruit Name:  \")\n",
        "  while name:\n",
        "    fruit_list.append(name)\n",
        "    name = input(\"Enter Your Favorite Fruit Name:  \")\n",
        "\n",
        "  print(\"Here's is your Favorite Fruit\", fruit_list)\n",
        "\n",
        "if __name__ == '__main__':\n",
        "  main()\n",
        "\n",
        "\n",
        "\n"
      ]
    },
    {
      "cell_type": "markdown",
      "metadata": {
        "id": "UuuYZO3UA2Os"
      },
      "source": [
        "**08_shorten**"
      ]
    },
    {
      "cell_type": "code",
      "execution_count": null,
      "metadata": {
        "colab": {
          "base_uri": "https://localhost:8080/"
        },
        "id": "toFC-A0HA53t",
        "outputId": "7e36583d-0260-44eb-d4cc-3477768ba9ff"
      },
      "outputs": [
        {
          "name": "stdout",
          "output_type": "stream",
          "text": [
            "Please enter an element of the list or press enter to stop. 2\n",
            "Please enter an element of the list or press enter to stop. 36\n",
            "Please enter an element of the list or press enter to stop. \n"
          ]
        }
      ],
      "source": [
        "MAX_LENGTH : int = 3\n",
        "\n",
        "def shorten(lst):\n",
        "    while len(lst) > MAX_LENGTH:\n",
        "        last_elem = lst.pop()\n",
        "        print(last_elem)\n",
        "\n",
        "# There is no need to edit code beyond this point\n",
        "\n",
        "def get_lst():\n",
        "    \"\"\"\n",
        "    Prompts the user to enter one element of the list at a time and returns the resulting list.\n",
        "    \"\"\"\n",
        "    lst = []\n",
        "    elem = input(\"Please enter an element of the list or press enter to stop. \")\n",
        "    while elem != \"\":\n",
        "        lst.append(elem)\n",
        "        elem = input(\"Please enter an element of the list or press enter to stop. \")\n",
        "        # print(lst)\n",
        "    return lst\n",
        "\n",
        "def main():\n",
        "    lst = get_lst()\n",
        "    shorten(lst)\n",
        "\n",
        "\n",
        "if __name__ == '__main__':\n",
        "    main()"
      ]
    },
    {
      "cell_type": "markdown",
      "metadata": {
        "id": "LcGnjBpAqFan"
      },
      "source": [
        "**homework_projects/03_if_statements\n",
        "/01_print_events**"
      ]
    },
    {
      "cell_type": "code",
      "execution_count": null,
      "metadata": {
        "colab": {
          "base_uri": "https://localhost:8080/"
        },
        "id": "-g3C2WPkp4GB",
        "outputId": "56a766da-3ecf-45d4-d0c2-3cb0725b7763"
      },
      "outputs": [
        {
          "name": "stdout",
          "output_type": "stream",
          "text": [
            "0\n",
            "2\n",
            "4\n",
            "6\n",
            "8\n",
            "10\n",
            "12\n",
            "14\n",
            "16\n",
            "18\n"
          ]
        }
      ],
      "source": [
        "def main():\n",
        "  for i in range(20):\n",
        "    if i % 2 == 0:\n",
        "      print(i)\n",
        "\n",
        "\n",
        "if __name__ == '__main__':\n",
        "  main()"
      ]
    },
    {
      "cell_type": "markdown",
      "metadata": {
        "id": "uSrwoiT3r3e1"
      },
      "source": [
        "**02_international_voting_age.**"
      ]
    },
    {
      "cell_type": "code",
      "execution_count": null,
      "metadata": {
        "id": "b66Vi2ONr3KH"
      },
      "outputs": [],
      "source": [
        "PETURKSBOUIPO_AGE : int = 16\n",
        "STANLAU_AGE : int = 25\n",
        "MAYENGUA_AGE : int = 48\n",
        "\n",
        "def main():\n",
        "  user_age = int(input(\"Please Enter Your Age:  \"))\n",
        "\n",
        "  if user_age >= PETURKSBOUIPO_AGE:\n",
        "        print(\"You can vote in Peturksbouipo where the voting age is \" + str(PETURKSBOUIPO_AGE) + \".\")\n",
        "  else:\n",
        "        print(\"You cannot vote in Peturksbouipo where the voting age is \" + str(PETURKSBOUIPO_AGE) + \".\")\n",
        "\n",
        "    # Check if the user can vote in Stanlau\n",
        "  if user_age >= STANLAU_AGE:\n",
        "        print(\"You can vote in Stanlau where the voting age is \" + str(STANLAU_AGE) + \".\")\n",
        "  else:\n",
        "        print(\"You cannot vote in Stanlau where the voting age is \" + str(STANLAU_AGE) + \".\")\n",
        "\n",
        "    # Check if user can vote in Mayengua\n",
        "  if user_age >= MAYENGUA_AGE:\n",
        "        print(\"You can vote in Mayengua where the voting age is \" + str(MAYENGUA_AGE) + \".\")\n",
        "  else:\n",
        "        print(\"You cannot vote in Mayengua where the voting age is \" + str(MAYENGUA_AGE) + \".\")\n",
        "\n",
        "\n",
        "\n",
        "  # if user_age >= PETURKSBOUIPO_AGE:\n",
        "  #   print(\"you can vote in Peturksbouipo where the voting age is\" + str(PETURKSBOUIPO_AGE) + \". \")\n",
        "  # elif user_age >= STANLAU_AGE :\n",
        "  #   print(\"You can vote in Stanlau where the voting age is 25. \")\n",
        "  # elif user_age >= MAYENGUA_AGE:\n",
        "  #   print(\"You can vote in Mayengua where the voting age is 48.\")\n",
        "  # else:\n",
        "  #   print(\"You are not old enough to vote.\")\n",
        "  if __name__ == '__main__':\n",
        "      main()\n",
        "\n",
        "\n",
        "\n",
        "\n"
      ]
    },
    {
      "cell_type": "code",
      "execution_count": null,
      "metadata": {
        "colab": {
          "base_uri": "https://localhost:8080/"
        },
        "id": "8fgCUhkxxekz",
        "outputId": "a8560f1c-be28-4fa3-826e-8992bb011717"
      },
      "outputs": [
        {
          "name": "stdout",
          "output_type": "stream",
          "text": [
            "How old are you? 49\n",
            "You can vote in Peturksbouipo where the voting age is 16.\n",
            "You can vote in Stanlau where the voting age is 25.\n",
            "You can vote in Mayengua where the voting age is 48.\n"
          ]
        }
      ],
      "source": [
        "PETURKSBOUIPO_AGE : int = 16\n",
        "STANLAU_AGE : int = 25\n",
        "MAYENGUA_AGE : int = 48\n",
        "\n",
        "def main():\n",
        "    # Get the user's age\n",
        "    user_age = int(input(\"How old are you? \"))\n",
        "\n",
        "    # Check if the user can vote in Peturksbouipo\n",
        "    if user_age >= PETURKSBOUIPO_AGE:\n",
        "        print(\"You can vote in Peturksbouipo where the voting age is \" + str(PETURKSBOUIPO_AGE) + \".\")\n",
        "    else:\n",
        "        print(\"You cannot vote in Peturksbouipo where the voting age is \" + str(PETURKSBOUIPO_AGE) + \".\")\n",
        "\n",
        "    # Check if the user can vote in Stanlau\n",
        "    if user_age >= STANLAU_AGE:\n",
        "        print(\"You can vote in Stanlau where the voting age is \" + str(STANLAU_AGE) + \".\")\n",
        "    else:\n",
        "        print(\"You cannot vote in Stanlau where the voting age is \" + str(STANLAU_AGE) + \".\")\n",
        "\n",
        "    # Check if user can vote in Mayengua\n",
        "    if user_age >= MAYENGUA_AGE:\n",
        "        print(\"You can vote in Mayengua where the voting age is \" + str(MAYENGUA_AGE) + \".\")\n",
        "    else:\n",
        "        print(\"You cannot vote in Mayengua where the voting age is \" + str(MAYENGUA_AGE) + \".\")\n",
        "\n",
        "\n",
        "# There is no need to edit code beyond this point\n",
        "\n",
        "if __name__ == '__main__':\n",
        "    main()"
      ]
    },
    {
      "cell_type": "markdown",
      "metadata": {
        "id": "SKe8U4EK4lgy"
      },
      "source": [
        "**03_leap_year**"
      ]
    },
    {
      "cell_type": "code",
      "execution_count": null,
      "metadata": {
        "colab": {
          "base_uri": "https://localhost:8080/"
        },
        "id": "AaWaAiMY_KPw",
        "outputId": "3837090c-49ec-444c-f6f5-7a08661dce2e"
      },
      "outputs": [
        {
          "name": "stdout",
          "output_type": "stream",
          "text": [
            "Please Enter a year to Check its a Leap Year?:  2020\n",
            "That's a Leap Year!\n"
          ]
        }
      ],
      "source": [
        "def main():\n",
        "\n",
        "    year = int(input('Please Enter a year to Check its a Leap Year?:  '))\n",
        "\n",
        "\n",
        "    if year % 4 == 0:\n",
        "        if year % 100 == 0:\n",
        "            if year % 400 == 0:\n",
        "                print(\"That's a Leap Year!\")\n",
        "            else:\n",
        "                print(\"That's not a Leap Year.\")\n",
        "        else:\n",
        "             print(\"That's a Leap Year!\")\n",
        "    else:\n",
        "        print(\"That's not a Leap Year.\")\n",
        "if __name__ == '__main__':\n",
        "  main()"
      ]
    },
    {
      "cell_type": "markdown",
      "metadata": {
        "id": "ekDVIFCuFdeS"
      },
      "source": [
        "**04_tall_enough_to_ride.**"
      ]
    },
    {
      "cell_type": "code",
      "execution_count": null,
      "metadata": {
        "colab": {
          "base_uri": "https://localhost:8080/"
        },
        "id": "50FLp4q2FkkY",
        "outputId": "feca5935-51e1-47dd-f7eb-766b794181a3"
      },
      "outputs": [
        {
          "name": "stdout",
          "output_type": "stream",
          "text": [
            "Enter YOur Height: 15\n",
            "you not tal Enough please re-Enter You height:\n",
            "Re-Enter Your Height: 48\n",
            "You're not tall enough to ride, but maybe next year! \n"
          ]
        }
      ],
      "source": [
        "MINIMUM_HEIGHT : int = 50\n",
        "def main():\n",
        "  user_height = float(input(\"Enter YOur Height: \"))\n",
        "\n",
        "  if user_height >= MINIMUM_HEIGHT:\n",
        "    print(\"You're tall enough to Ride!\")\n",
        "\n",
        "\n",
        "  else:\n",
        "    print(\"you not tal Enough please re-Enter You height:\")\n",
        "    till_user_height = float(input(\"Re-Enter Your Height: \"))\n",
        "    if till_user_height >= MINIMUM_HEIGHT:\n",
        "      print(\"\\n\\t\\t\\t\\t You're tall enough to Ride!\")\n",
        "    else:\n",
        "      print(\"You're not tall enough to ride, but maybe next year! \")\n",
        "\n",
        "if __name__ == '__main__':\n",
        "  main()"
      ]
    },
    {
      "cell_type": "markdown",
      "metadata": {
        "id": "G8B7feDpd6RK"
      },
      "source": [
        "**05 Random numbers**"
      ]
    },
    {
      "cell_type": "code",
      "execution_count": null,
      "metadata": {
        "colab": {
          "base_uri": "https://localhost:8080/"
        },
        "id": "EiHmTSh_asnV",
        "outputId": "358e3d9e-a429-4046-b4f1-9666f11c81ee"
      },
      "outputs": [
        {
          "name": "stdout",
          "output_type": "stream",
          "text": [
            "49\n",
            "58\n",
            "10\n",
            "57\n",
            "3\n",
            "81\n",
            "96\n",
            "61\n",
            "86\n",
            "87\n"
          ]
        }
      ],
      "source": [
        "import random\n",
        "\n",
        "N_number : int = 10\n",
        "Min_value : int = 1\n",
        "Max_value : int = 100\n",
        "\n",
        "def main():\n",
        "  for i in range(N_number):\n",
        "    value = random.randint(Min_value,  Max_value)\n",
        "    print(value)\n",
        "\n",
        "if __name__ == '__main__':\n",
        "  main()"
      ]
    },
    {
      "cell_type": "markdown",
      "metadata": {
        "id": "pm7ucOXo0SKZ"
      },
      "source": [
        "**homework_projects/04_dictionaries\n",
        "/00_count_nums**"
      ]
    },
    {
      "cell_type": "code",
      "execution_count": null,
      "metadata": {
        "colab": {
          "base_uri": "https://localhost:8080/"
        },
        "id": "-sT44jxkN7qL",
        "outputId": "dfdc1169-af27-46a4-fc41-35d34de3ed69"
      },
      "outputs": [
        {
          "name": "stdout",
          "output_type": "stream",
          "text": [
            "Enter a number (or 'done' to finish): 23\n",
            "Enter a number (or 'done' to finish): 15\n",
            "Enter a number (or 'done' to finish): 15\n",
            "Enter a number (or 'done' to finish): 67\n",
            "Enter a number (or 'done' to finish): done\n",
            "\n",
            "Number frequencies:\n",
            "23 appears 1 times.\n",
            "15 appears 2 times.\n",
            "67 appears 1 times.\n"
          ]
        }
      ],
      "source": [
        "counts = {}  # Dictionary to store number counts\n",
        "\n",
        "while True:\n",
        "    num = input(\"Enter a number (or 'done' to finish): \")\n",
        "    if num.lower() == 'done':  # Exit condition\n",
        "        break\n",
        "    if num.isdigit():  # Ensure valid input\n",
        "        num = int(num)\n",
        "        counts[num] = counts.get(num, 0) + 1  # Increment count\n",
        "\n",
        "print(\"\\nNumber frequencies:\")\n",
        "for number, count in counts.items():\n",
        "    print(f\"{number} appears {count} times.\")\n",
        "1"
      ]
    },
    {
      "cell_type": "markdown",
      "metadata": {
        "id": "yrBBtfA5QLJh"
      },
      "source": [
        "**01_phonebook**"
      ]
    },
    {
      "cell_type": "code",
      "execution_count": null,
      "metadata": {
        "colab": {
          "base_uri": "https://localhost:8080/"
        },
        "id": "Hrpwzuk-QKk9",
        "outputId": "83275b68-9bf1-413a-bfbf-1ae159fe7ce0"
      },
      "outputs": [
        {
          "name": "stdout",
          "output_type": "stream",
          "text": [
            "Name: awas\n",
            "  Number: 0315623546\n",
            "awas  -> 0315623546\n",
            "Enter name to lookup: awas\n",
            "0315623546\n",
            "Enter name to lookup: awas\n",
            "0315623546\n",
            "Enter name to lookup: aw6\n",
            "aw6 is not in the phonebook.\n",
            "Enter name to lookup: stop\n",
            "stop is not in the phonebook.\n",
            "Enter name to lookup: done\n",
            "done is not in the phonebook.\n",
            "Enter name to lookup: \n",
            " is not in the phonebook.\n",
            "Enter name to lookup: \n",
            " is not in the phonebook.\n",
            "Enter name to lookup: \n",
            " is not in the phonebook.\n",
            "Enter name to lookup: \n",
            " is not in the phonebook.\n",
            "Enter name to lookup: \n",
            " is not in the phonebook.\n",
            "Enter name to lookup: \n",
            " is not in the phonebook.\n"
          ]
        }
      ],
      "source": [
        "\n",
        "\n",
        "\n",
        "def read_phone_numbers():\n",
        "\n",
        "  \"\"\"\n",
        "  ask the user for names/numbers to story in a phonebook (dictionary) .\n",
        "  Returns the phonebook.\n",
        "  \"\"\"\n",
        "  phonebook = {} #empty phonebook\n",
        "\n",
        "  while True:\n",
        "    name = input(\"Name: \")\n",
        "    name = name.lower()\n",
        "    if name == \" \":\n",
        "      break\n",
        "    number = input(\"  Number: \")\n",
        "    phonebook[name] = number\n",
        "    return phonebook\n",
        "def print_phonebook(phonebook):\n",
        "  \"\"\"\n",
        "  prints out all the name/numbers in the phonebook.\n",
        "  \"\"\"\n",
        "\n",
        "  for name in phonebook:\n",
        "    print(str(name) + \"  -> \" + str(phonebook[name]))\n",
        "\n",
        "def lookup_number(phonebook):\n",
        "  \"\"\"Allow the user to lookup phone numbers in the phonebook\n",
        "  by looking up the number associated with a name.\n",
        "  \"\"\"\n",
        "  while True:\n",
        "    name = input(\"Enter name to lookup: \")\n",
        "    name = name.lower()\n",
        "    if name == \" \":\n",
        "      break\n",
        "\n",
        "    if name not in phonebook:\n",
        "      print(name + \" is not in the phonebook.\")\n",
        "\n",
        "    else:\n",
        "          print(phonebook[name])\n",
        "\n",
        "def main():\n",
        "  phonebook = read_phone_numbers()\n",
        "  print_phonebook(phonebook)\n",
        "  lookup_number(phonebook)\n",
        "\n",
        "if __name__ == '__main__':\n",
        "  main()\n"
      ]
    },
    {
      "cell_type": "markdown",
      "metadata": {
        "id": "XoQ4-md0dzrA"
      },
      "source": [
        "**04_dictionaries\n",
        "/02_pop_up_shop.**"
      ]
    },
    {
      "cell_type": "code",
      "execution_count": null,
      "metadata": {
        "colab": {
          "base_uri": "https://localhost:8080/"
        },
        "id": "U03wAaKLeeSZ",
        "outputId": "8a971a24-134e-455d-a757-5dc8b32c3dee"
      },
      "outputs": [
        {
          "name": "stdout",
          "output_type": "stream",
          "text": [
            "How many (apple) do you want to buy??? 2\n",
            "How many (durian) do you want to buy??? 1\n",
            "How many (jackfruit) do you want to buy??? 1\n",
            "How many (kiwi) do you want to buy??? 1\n",
            "How many (rambutan) do you want to buy??? 2\n",
            "How many (mango) do you want to buy??? 1\n",
            "Your Totla Price is $ 142.0\n"
          ]
        }
      ],
      "source": [
        "def main():\n",
        "    fruits = {'apple': 1.5, 'durian': 50, 'jackfruit': 80, 'kiwi': 1, 'rambutan': 1.5, 'mango': 5}\n",
        "\n",
        "    total_cost = 0\n",
        "\n",
        "    for fruit_name in fruits:\n",
        "      price = fruits[fruit_name]\n",
        "      amount_bought = int(input(\"How many (\"+ fruit_name +\") do you want to buy??? \"))\n",
        "      total_cost += (price * amount_bought)\n",
        "\n",
        "\n",
        "    print(\"Your Totla Price is $\", str(total_cost))\n",
        "\n",
        "\n",
        "if __name__ == '__main__':\n",
        "    main()\n"
      ]
    },
    {
      "cell_type": "markdown",
      "metadata": {
        "id": "EwshXrXv4Mzs"
      },
      "source": [
        "**00_guess_my_number**"
      ]
    },
    {
      "cell_type": "code",
      "execution_count": null,
      "metadata": {
        "colab": {
          "base_uri": "https://localhost:8080/"
        },
        "id": "0HRaqlMb4QcF",
        "outputId": "6f960557-6f40-489d-865d-59b226951407"
      },
      "outputs": [
        {
          "name": "stdout",
          "output_type": "stream",
          "text": [
            "I am thinking of a number between 1 and 99...\n",
            "Attempt 1/3 - Enter a guess: 84\n",
            "Your guess is too low\n",
            "\n",
            "Attempt 2/3 - Enter a guess: 91\n",
            "Your guess is too high\n",
            "\n",
            "Attempt 3/3 - Enter a guess: 88\n",
            "Your guess is too low\n",
            "\n",
            "Your attempt has been completed. Sorry, try your luck next time.\n",
            "The correct number was: 89\n"
          ]
        }
      ],
      "source": [
        "\n",
        "\n",
        "import random\n",
        "\n",
        "def main():\n",
        "    # Generate the secret number at random!\n",
        "    secret_number = random.randint(1, 99)\n",
        "    attempts = 3  # Maximum number of attempts\n",
        "\n",
        "    print(\"I am thinking of a number between 1 and 99...\")\n",
        "\n",
        "    for attempt in range(attempts):\n",
        "        # Get user's guess\n",
        "        guess = int(input(f\"Attempt {attempt + 1}/{attempts} - Enter a guess: \"))\n",
        "\n",
        "        if guess == secret_number:\n",
        "            print(f\"Congrats! The number was: {secret_number}\")\n",
        "            return\n",
        "        elif guess < secret_number:\n",
        "            print(\"Your guess is too low\")\n",
        "        else:\n",
        "            print(\"Your guess is too high\")\n",
        "\n",
        "        print()  # Print an empty line to tidy up the console\n",
        "\n",
        "    print(\"Your attempt has been completed. Sorry, try your luck next time.\")\n",
        "    print(f\"The correct number was: {secret_number}\")\n",
        "\n",
        "if __name__ == '__main__':\n",
        "    main()\n"
      ]
    },
    {
      "cell_type": "markdown",
      "metadata": {
        "id": "-xBEjQE7AbHA"
      },
      "source": [
        "**01_fibonacci**"
      ]
    },
    {
      "cell_type": "code",
      "execution_count": null,
      "metadata": {
        "colab": {
          "base_uri": "https://localhost:8080/"
        },
        "id": "ZyrRfko6Fzch",
        "outputId": "e1126e1c-4bdc-4e5e-84f8-c8c3231d3e85"
      },
      "outputs": [
        {
          "name": "stdout",
          "output_type": "stream",
          "text": [
            "0\n",
            "1\n",
            "1\n",
            "2\n",
            "3\n",
            "5\n",
            "8\n",
            "13\n",
            "21\n"
          ]
        }
      ],
      "source": [
        "MAX_TERM_VALUE: int = 25\n",
        "\n",
        "def main():\n",
        "  curr_term = 0\n",
        "  next_term = 1\n",
        "  while curr_term <= MAX_TERM_VALUE:\n",
        "    print(curr_term)\n",
        "    term_after_next = curr_term + next_term\n",
        "    curr_term = next_term\n",
        "    next_term = term_after_next\n",
        "\n",
        "if __name__ == '__main__':\n",
        "  main()"
      ]
    },
    {
      "cell_type": "markdown",
      "metadata": {
        "id": "8-LGtg1MHnKY"
      },
      "source": [
        "**02_print_events**"
      ]
    },
    {
      "cell_type": "code",
      "execution_count": null,
      "metadata": {
        "colab": {
          "base_uri": "https://localhost:8080/"
        },
        "id": "iIkLWCumHnzg",
        "outputId": "1efcb44c-b401-4b85-f959-115e3a2de410"
      },
      "outputs": [
        {
          "name": "stdout",
          "output_type": "stream",
          "text": [
            "0\n",
            "2\n",
            "4\n",
            "6\n",
            "8\n",
            "10\n",
            "12\n",
            "14\n",
            "16\n",
            "18\n"
          ]
        }
      ],
      "source": [
        "def main():\n",
        "  for i in range(20):\n",
        "    if i % 2 == 0:\n",
        "      print(i )\n",
        "\n",
        "\n",
        "if __name__ == '__main__':\n",
        "  main()"
      ]
    },
    {
      "cell_type": "markdown",
      "metadata": {
        "id": "oQVg-EpFH-8S"
      },
      "source": [
        "**05_loops_control_flow\n",
        "/03_wholesome_machine**"
      ]
    },
    {
      "cell_type": "code",
      "execution_count": null,
      "metadata": {
        "colab": {
          "base_uri": "https://localhost:8080/"
        },
        "id": "ghRzmjDNICMa",
        "outputId": "b49b13b6-450b-4a1a-f3ab-3902b8c92d88"
      },
      "outputs": [
        {
          "name": "stdout",
          "output_type": "stream",
          "text": [
            "Please type the follwing Affirmation :  I am capable of doing anything I put my mind to.\n",
            "I am capable of doing anything I put my mind to\n",
            "That was not the affirmation.\n",
            "Please type the follwing Affirmation :  I am capable of doing anything I put my mind to.\n",
            "I am capable of doing anything I put my mind to.\n",
            "That's right! :) \n"
          ]
        }
      ],
      "source": [
        "AFFIRMATION = \"I am capable of doing anything I put my mind to.\"\n",
        "\n",
        "\n",
        "def main():\n",
        "  print(\"Please type the follwing Affirmation :  \" + AFFIRMATION)\n",
        "\n",
        "  user_feedback = input()\n",
        "\n",
        "  while user_feedback != AFFIRMATION:\n",
        "    # Tell the user that they did not type the affirmation correctly\n",
        "    print(\"That was not the affirmation.\")\n",
        "\n",
        "    #Ask the user to type the affirmation again!\n",
        "    print(\"Please type the follwing Affirmation :  \" + AFFIRMATION)\n",
        "    user_feedback = input()\n",
        "  print(\"That's right! :) \")\n",
        "\n",
        "if __name__ == '__main__':\n",
        "  main()\n"
      ]
    },
    {
      "cell_type": "markdown",
      "metadata": {
        "id": "vafRAjWPLJvf"
      },
      "source": [
        "**04_liftoff.**"
      ]
    },
    {
      "cell_type": "code",
      "execution_count": null,
      "metadata": {
        "colab": {
          "base_uri": "https://localhost:8080/"
        },
        "id": "_7lgfXVnM7VC",
        "outputId": "ac26d5aa-456a-4582-a0da-9bf9ccd5bcdf"
      },
      "outputs": [
        {
          "name": "stdout",
          "output_type": "stream",
          "text": [
            "10 9 8 7 6 5 4 3 2 1 ......LIFToFFFFFFF !!!  \n"
          ]
        }
      ],
      "source": [
        "def spaceship_launch():\n",
        "  for i in range(10, 0, -1):\n",
        "    print(i, end=\" \")\n",
        "  print(\"......LIFToFFFFFFF !!!  \")\n",
        "\n",
        "if __name__ == \"__main__\":\n",
        "  spaceship_launch()"
      ]
    },
    {
      "cell_type": "markdown",
      "metadata": {
        "id": "Fr-LCAlROaHK"
      },
      "source": [
        "**05_double_it**"
      ]
    },
    {
      "cell_type": "code",
      "execution_count": null,
      "metadata": {
        "colab": {
          "base_uri": "https://localhost:8080/"
        },
        "id": "muPlM3FHOc4x",
        "outputId": "635cf4fd-dee3-4f9d-841e-d428f7a11873"
      },
      "outputs": [
        {
          "name": "stdout",
          "output_type": "stream",
          "text": [
            "Enter a number :  2\n",
            "2 4 8 16 32 64 128\n"
          ]
        }
      ],
      "source": [
        "MAX_VALUE : int = 100\n",
        "\n",
        "def double_the_number():\n",
        "  curr_value = int(input(\"Enter a number :  \"))\n",
        "\n",
        "  while curr_value < 100:\n",
        "    print(curr_value, end=\" \")\n",
        "    curr_value = curr_value * 2\n",
        "\n",
        "  print(curr_value)\n",
        "\n",
        "if __name__ == \"__main__\":\n",
        "  double_the_number()"
      ]
    },
    {
      "cell_type": "markdown",
      "metadata": {
        "id": "7LA5M8g6QcFt"
      },
      "source": [
        "**homework_projects/06_functions\n",
        "/00_averages**"
      ]
    },
    {
      "cell_type": "code",
      "execution_count": null,
      "metadata": {
        "colab": {
          "base_uri": "https://localhost:8080/"
        },
        "id": "vCtB5HRSQeU-",
        "outputId": "92027e11-b3eb-42ee-85ff-a4a228bafb53"
      },
      "outputs": [
        {
          "name": "stdout",
          "output_type": "stream",
          "text": [
            "Enter First Number:   29\n",
            "Enter Second Number:   5\n",
            "17.0\n"
          ]
        }
      ],
      "source": [
        "def main():\n",
        "\n",
        "  num1 = int(input(\"Enter First Number:   \"))\n",
        "  num2 = int(input(\"Enter Second Number:   \"))\n",
        "\n",
        "  sum = num1 + num2\n",
        "  final = sum / 2\n",
        "\n",
        "  print(final)\n",
        "\n",
        "\n",
        "if __name__ == '__main__':\n",
        "  main()\n",
        "\n",
        "\n"
      ]
    },
    {
      "cell_type": "code",
      "execution_count": null,
      "metadata": {
        "colab": {
          "base_uri": "https://localhost:8080/"
        },
        "id": "vlXlvNwwRVtN",
        "outputId": "c82b8fc5-d6ff-4010-a7e3-4860543b17c5"
      },
      "outputs": [
        {
          "name": "stdout",
          "output_type": "stream",
          "text": [
            "avg_1 5.0\n",
            "avg_2 9.0\n",
            "final 7.0\n"
          ]
        }
      ],
      "source": [
        "def average(a: float, b: float):\n",
        "    \"\"\"\n",
        "    Returns the number which is half way between a and b\n",
        "    \"\"\"\n",
        "    sum = a + b\n",
        "    return sum / 2\n",
        "\n",
        "def main():\n",
        "    avg_1 = average(0, 10)\n",
        "    avg_2 = average(8, 10)\n",
        "\n",
        "    final = average(avg_1, avg_2)\n",
        "    print(\"avg_1\", avg_1)\n",
        "    print(\"avg_2\", avg_2)\n",
        "    print(\"final\", final)\n",
        "\n",
        "\n",
        "# There is no need to edit code beyond this point\n",
        "\n",
        "if __name__ == '__main__':\n",
        "    main()"
      ]
    },
    {
      "cell_type": "markdown",
      "metadata": {
        "id": "IMEItbS2W5nL"
      },
      "source": [
        "**1_chaotic_counting**"
      ]
    },
    {
      "cell_type": "code",
      "execution_count": null,
      "metadata": {
        "colab": {
          "base_uri": "https://localhost:8080/"
        },
        "id": "-7nPlRZnW9Mz",
        "outputId": "82192f43-4bdc-445d-b156-ffbdbd6e385f"
      },
      "outputs": [
        {
          "name": "stdout",
          "output_type": "stream",
          "text": [
            "I'm going to count until 10 or until I feel like stopping, whichever comes first.\n",
            "1\n",
            "2\n",
            "3\n",
            "4\n",
            "5\n",
            "6\n",
            "7\n",
            "8\n",
            "9\n",
            "10\n",
            "I'm done.\n"
          ]
        }
      ],
      "source": [
        "import random\n",
        "\n",
        "DONE_LIKELIHOOD = 0.2  # Probability of stopping (adjust as needed)\n",
        "\n",
        "def chaotic_counting():\n",
        "    for i in range(10):\n",
        "        curr_num = i + 1\n",
        "        if done():\n",
        "            return  # Ends function execution early\n",
        "        print(curr_num)\n",
        "\n",
        "def done():\n",
        "    \"\"\" Returns True with a probability of DONE_LIKELIHOOD \"\"\"\n",
        "    return random.random() < DONE_LIKELIHOOD\n",
        "\n",
        "def main():\n",
        "    print(\"I'm going to count until 10 or until I feel like stopping, whichever comes first.\")\n",
        "    chaotic_counting()\n",
        "    print(\"I'm done.\")\n",
        "\n",
        "if __name__ == \"__main__\":\n",
        "    main()\n"
      ]
    },
    {
      "cell_type": "markdown",
      "metadata": {
        "id": "JXnj6U5GlMnd"
      },
      "source": []
    },
    {
      "cell_type": "code",
      "execution_count": null,
      "metadata": {
        "colab": {
          "base_uri": "https://localhost:8080/"
        },
        "id": "7v5bqK9Pnsh-",
        "outputId": "c91fc007-68bd-486f-b02d-1e9f1ccf2836"
      },
      "outputs": [
        {
          "name": "stdout",
          "output_type": "stream",
          "text": [
            "Enter an integer or press enter to stop: 12\n",
            "Enter an integer or press enter to stop: \n",
            "1\n"
          ]
        }
      ],
      "source": [
        "\n",
        "\n",
        "def count_even(lst):\n",
        "    \"\"\"\n",
        "    Returns number of even numbers in list.\n",
        "    >>> count_even([1,2,3,4])\n",
        "    2\n",
        "    >>> count_even([1,3,5,7])\n",
        "    0\n",
        "    \"\"\"\n",
        "    count = 0  # Stores the count of even numbers in the list\n",
        "    for num in lst:  # Loop through the numbers in the list\n",
        "        if num % 2 == 0:  # If the current number in the list is even (divisible by 2)\n",
        "            count += 1  # Add one to our count!\n",
        "\n",
        "    # Here's another way to do this same thing, with a different kind of for-loop:\n",
        "    # for i in range(len(lst)):\n",
        "    #     num = lst[i]\n",
        "    #     if num % 2 == 0:\n",
        "    #         count += 1\n",
        "\n",
        "    print(count)  # Print out how many even numbers we counted above\n",
        "\n",
        "def get_list_of_ints():\n",
        "    \"\"\"\n",
        "    Reads in integers until the user presses enter and returns the resulting list.\n",
        "    \"\"\"\n",
        "    lst = []  # Make an empty list to store integers\n",
        "    user_input = input(\"Enter an integer or press enter to stop: \")  # Get user input for an integer\n",
        "    while user_input != \"\":  # While the user doesn't enter nothing...\n",
        "        lst.append(int(user_input))  # Cast the user input into an integer and add it to our list\n",
        "        user_input = input(\"Enter an integer or press enter to stop: \")  # Get the next user input\n",
        "\n",
        "    return lst\n",
        "\n",
        "def main():\n",
        "    lst = get_list_of_ints()\n",
        "    count_even(lst)\n",
        "\n",
        "\n",
        "# There is no need to edit code beyond this point\n",
        "\n",
        "if __name__ == '__main__':\n",
        "    main()"
      ]
    },
    {
      "cell_type": "code",
      "execution_count": null,
      "metadata": {
        "colab": {
          "base_uri": "https://localhost:8080/"
        },
        "id": "rQ3TqWDSraC2",
        "outputId": "f98df86e-5c04-4dbe-a774-e731a44825f0"
      },
      "outputs": [
        {
          "name": "stdout",
          "output_type": "stream",
          "text": [
            "Enter a number: 56\n",
            "Double that is 112\n"
          ]
        }
      ],
      "source": [
        "\n",
        "\n",
        "def double(num: int):\n",
        "    return num * 2\n",
        "\n",
        "\n",
        "\n",
        "def main():\n",
        "    num = int(input(\"Enter a number: \"))\n",
        "    num_times_2 = double(num)\n",
        "    print(\"Double that is\", num_times_2)\n",
        "\n",
        "if __name__ == '__main__':\n",
        "    main()"
      ]
    },
    {
      "cell_type": "code",
      "execution_count": null,
      "metadata": {
        "colab": {
          "base_uri": "https://localhost:8080/"
        },
        "id": "alKocxqrr9wQ",
        "outputId": "63cc16ae-3267-4989-af93-441fd3089554"
      },
      "outputs": [
        {
          "name": "stdout",
          "output_type": "stream",
          "text": [
            "Hellow Awais How are You Dear???\n"
          ]
        }
      ],
      "source": [
        "def get_name():\n",
        "  return \"Awais\"\n",
        "\n",
        "def main():\n",
        "  name = get_name()\n",
        "  print(\"Hellow\" , name , \"How are You Dear???\")\n",
        "\n",
        "\n",
        "if __name__ == '__main__':\n",
        "  main()"
      ]
    },
    {
      "cell_type": "code",
      "execution_count": null,
      "metadata": {
        "colab": {
          "base_uri": "https://localhost:8080/"
        },
        "id": "35ihYbqssAWI",
        "outputId": "d26ec757-ca5d-47bd-e3a4-071114d0f245"
      },
      "outputs": [
        {
          "name": "stdout",
          "output_type": "stream",
          "text": [
            "Enter a number :2\n",
            "2 NUMBER IS Even Enter a number :3\n",
            "3 number is odd\n",
            "Enter a number :0\n"
          ]
        }
      ],
      "source": [
        "def odd_even():\n",
        "  while  True:\n",
        "    user_input = int(input(\"Enter a number :\"))\n",
        "    if user_input == 0:\n",
        "      break\n",
        "    if user_input % 2 == 0:\n",
        "        print( user_input, \"NUMBER IS Even\" ,end=\" \")\n",
        "\n",
        "\n",
        "    else:\n",
        "      print(user_input , \"number is odd\")\n",
        "\n",
        "if __name__ == '__main__':\n",
        "  odd_even()"
      ]
    },
    {
      "cell_type": "markdown",
      "metadata": {
        "id": "XmUUJUoh0c7j"
      },
      "source": [
        "**06_functions\n",
        "/07_print_divisor**"
      ]
    },
    {
      "cell_type": "code",
      "execution_count": null,
      "metadata": {
        "colab": {
          "base_uri": "https://localhost:8080/"
        },
        "id": "hdgimtPR0cd1",
        "outputId": "11cb6a55-ac87-42ea-eef7-926c8d7467d3"
      },
      "outputs": [
        {
          "name": "stdout",
          "output_type": "stream",
          "text": [
            "Enter a number:   56\n",
            "Here are the divisor of  56\n",
            "1\n",
            "2\n",
            "4\n",
            "7\n",
            "8\n",
            "14\n",
            "28\n",
            "56\n"
          ]
        }
      ],
      "source": [
        "def print_divisor():\n",
        "  input_user = int(input(\"Enter a number:   \"  ))\n",
        "  print(\"Here are the divisor of \", input_user)\n",
        "  for i in range(input_user):\n",
        "    curr_divisor = i + 1\n",
        "    if input_user % curr_divisor == 0:\n",
        "      print(curr_divisor)\n",
        "\n",
        "def main():\n",
        "  input_user = int(input(\"Enter a number : \"))\n",
        "  print_divisor(input_user)\n",
        "if __name__ == '__main__':\n",
        "  print_divisor()"
      ]
    },
    {
      "cell_type": "markdown",
      "metadata": {
        "id": "QNlE4Ezd27FY"
      },
      "source": [
        "**06_functions\n",
        "/08_print_multiple**"
      ]
    },
    {
      "cell_type": "code",
      "execution_count": null,
      "metadata": {
        "colab": {
          "base_uri": "https://localhost:8080/"
        },
        "id": "qIHSGi5E58XB",
        "outputId": "c57d1516-81bd-43d1-ee49-be9a7a5416c9"
      },
      "outputs": [
        {
          "name": "stdout",
          "output_type": "stream",
          "text": [
            "Please type a message: Pakistan Zindabad\n",
            "Enter a number of times to repeat your message: 5\n",
            "Pakistan Zindabad\n",
            "Pakistan Zindabad\n",
            "Pakistan Zindabad\n",
            "Pakistan Zindabad\n",
            "Pakistan Zindabad\n"
          ]
        }
      ],
      "source": [
        "def print_multiple(message: str, repeats: int):\n",
        "  for i in range(repeats):\n",
        "    print(message)\n",
        "\n",
        "def main():\n",
        "  message = input(\"Please type a message: \")\n",
        "  repeats = int(input(\"Enter a number of times to repeat your message: \"))\n",
        "  print_multiple(message, repeats)\n",
        "\n",
        "if __name__ == '__main__':\n",
        "  main()"
      ]
    },
    {
      "cell_type": "markdown",
      "metadata": {
        "id": "uFdXZZnv6rC4"
      },
      "source": []
    },
    {
      "cell_type": "code",
      "execution_count": null,
      "metadata": {
        "colab": {
          "base_uri": "https://localhost:8080/"
        },
        "id": "cD-4LrFU60_0",
        "outputId": "52c12b96-3d69-46e5-a05e-791db5203e98"
      },
      "outputs": [
        {
          "name": "stdout",
          "output_type": "stream",
          "text": [
            "Please type a noun, verb, or adjective: good\n",
            "Is this a noun, verb, or adjective?\n",
            "Type 0 for noun, 1 for verb, 2 for adjective: 2\n",
            "Looking out my window, the sky is big and good!\n"
          ]
        }
      ],
      "source": [
        "def make_sentence(word, part_of_speech):\n",
        "    if part_of_speech == 0:\n",
        "        # noun\n",
        "        print(\"I am excited to add this \" + word + \" to my vast collection of them!\")\n",
        "    elif part_of_speech == 1:\n",
        "        # verb\n",
        "        print(\"It's so nice outside today it makes me want to \" + word + \"!\")\n",
        "    elif part_of_speech == 2:\n",
        "        # adjective\n",
        "        print(\"Looking out my window, the sky is big and \" + word + \"!\")\n",
        "    else:\n",
        "        # part_of_speech is invalid (not 0, 1, or 2)\n",
        "        print(\"Part of speech must be 0, 1, or 2! Can't make a sentence.\")\n",
        "\n",
        "# There is no need to edit code beyond this point\n",
        "\n",
        "def main():\n",
        "    word :  str = input(\"Please type a noun, verb, or adjective: \")\n",
        "    print(\"Is this a noun, verb, or adjective?\")\n",
        "    part_of_speech = int(input(\"Type 0 for noun, 1 for verb, 2 for adjective: \"))\n",
        "    make_sentence(word, part_of_speech)\n",
        "\n",
        "if __name__ == '__main__':\n",
        "    main()\n"
      ]
    },
    {
      "cell_type": "code",
      "execution_count": null,
      "metadata": {
        "colab": {
          "base_uri": "https://localhost:8080/"
        },
        "id": "jIlvEVaP7K7R",
        "outputId": "9ae7924f-04c5-4838-c1a8-6064cb9d59a2"
      },
      "outputs": [
        {
          "name": "stdout",
          "output_type": "stream",
          "text": [
            "Enter a number: 2345\n",
            "The ones digit is 5\n"
          ]
        }
      ],
      "source": [
        "def print_ones_digit(num):\n",
        "  print(\"The ones digit is\", num % 10)\n",
        "\n",
        "def main():\n",
        "  num = int(input(\"Enter a number: \"))\n",
        "  print_ones_digit(num)\n",
        "\n",
        "if __name__ == '__main__':\n",
        "  main()"
      ]
    },
    {
      "cell_type": "markdown",
      "metadata": {
        "id": "pFOsu8AlhLMf"
      },
      "source": [
        "**online_class_projects/01_basics\n",
        "/00_joke_bot**"
      ]
    },
    {
      "cell_type": "code",
      "execution_count": null,
      "metadata": {
        "colab": {
          "base_uri": "https://localhost:8080/"
        },
        "id": "rpsGL6HbhNMu",
        "outputId": "ed2ac945-4aa3-413f-8098-10dc91442d5a"
      },
      "outputs": [
        {
          "name": "stdout",
          "output_type": "stream",
          "text": [
            "What do u want?  :  funny clips\n",
            "Sorry I only tell jokes\n"
          ]
        }
      ],
      "source": [
        "joke = \"Sophia is heading out to the grocery store. A programmer tells her: get a liter of milk, and if they have eggs, get 12. Sophia returns with 13 liters of milk. The programmer asks why and Sophia replies: 'because they had eggs'\"\n",
        "\n",
        "def jokebot():\n",
        "  user_input = input(\"What do u want?  :  \").lower()\n",
        "  if user_input == \"joke\":\n",
        "    print(\"\\n\\t Here is a joke for You!\\n\\t Panaversity GPT : \\n\\t\"  ,joke)\n",
        "  else:\n",
        "    print(\"Sorry I only tell jokes\")\n",
        "\n",
        "\n",
        "if __name__ == '__main__':\n",
        "  jokebot()\n"
      ]
    },
    {
      "cell_type": "markdown",
      "metadata": {
        "id": "BEbD2foRktWr"
      },
      "source": [
        "01_basics\n",
        "/**01_double_it**"
      ]
    },
    {
      "cell_type": "code",
      "execution_count": null,
      "metadata": {
        "colab": {
          "base_uri": "https://localhost:8080/"
        },
        "id": "N9RTJ8vhkttL",
        "outputId": "6ec1896e-2859-4e1e-9b82-7427d9ee2343"
      },
      "outputs": [
        {
          "name": "stdout",
          "output_type": "stream",
          "text": [
            "Enter a number :  5\n",
            "5 10 20 40 80 160\n"
          ]
        }
      ],
      "source": [
        "MAX_VALUE : int = 100\n",
        "\n",
        "def double_the_number():\n",
        "  curr_value = int(input(\"Enter a number :  \"))\n",
        "\n",
        "  while curr_value < 100:\n",
        "    print(curr_value, end=\" \")\n",
        "    curr_value = curr_value * 2\n",
        "\n",
        "  print(curr_value)\n",
        "\n",
        "if __name__ == \"__main__\":\n",
        "  double_the_number()"
      ]
    },
    {
      "cell_type": "markdown",
      "metadata": {
        "id": "yIGmx8F0lAru"
      },
      "source": [
        "**02_liftoff.**"
      ]
    },
    {
      "cell_type": "code",
      "execution_count": null,
      "metadata": {
        "colab": {
          "base_uri": "https://localhost:8080/"
        },
        "id": "14mQJBQqlAH2",
        "outputId": "edeaf09a-6257-4d8c-bf19-46d7a9d72b43"
      },
      "outputs": [
        {
          "name": "stdout",
          "output_type": "stream",
          "text": [
            "10 9 8 7 6 5 4 3 2 1 ......LIFToFFFFFFF !!!  \n"
          ]
        }
      ],
      "source": [
        "def spaceship_launch():\n",
        "  for i in range(10, 0, -1):\n",
        "    print(i, end=\" \")\n",
        "  print(\"......LIFToFFFFFFF !!!  \")\n",
        "\n",
        "if __name__ == \"__main__\":\n",
        "  spaceship_launch()"
      ]
    },
    {
      "cell_type": "markdown",
      "metadata": {
        "id": "XnUI0Qg7lSZr"
      },
      "source": [
        "**03_guess_my_number**"
      ]
    },
    {
      "cell_type": "code",
      "execution_count": null,
      "metadata": {
        "colab": {
          "base_uri": "https://localhost:8080/"
        },
        "id": "GWeV5WColSOD",
        "outputId": "150a5374-dbea-43e6-94ca-85a5c96d96cc"
      },
      "outputs": [
        {
          "name": "stdout",
          "output_type": "stream",
          "text": [
            "I am thinking of a number between 1 and 99...\n",
            "Attempt 1/3 - Enter a guess: 85\n",
            "Your guess is too high\n",
            "\n",
            "Attempt 2/3 - Enter a guess: 55\n",
            "Your guess is too low\n",
            "\n",
            "Attempt 3/3 - Enter a guess: 74\n",
            "Your guess is too high\n",
            "\n",
            "Your attempt has been completed. Sorry, try your luck next time.\n",
            "The correct number was: 59\n"
          ]
        }
      ],
      "source": [
        "\n",
        "\n",
        "import random\n",
        "\n",
        "def main():\n",
        "    # Generate the secret number at random!\n",
        "    secret_number = random.randint(1, 99)\n",
        "    attempts = 3  # Maximum number of attempts\n",
        "\n",
        "    print(\"I am thinking of a number between 1 and 99...\")\n",
        "\n",
        "    for attempt in range(attempts):\n",
        "        # Get user's guess\n",
        "        guess = int(input(f\"Attempt {attempt + 1}/{attempts} - Enter a guess: \"))\n",
        "\n",
        "        if guess == secret_number:\n",
        "            print(f\"Congrats! The number was: {secret_number}\")\n",
        "            return\n",
        "        elif guess < secret_number:\n",
        "            print(\"Your guess is too low\")\n",
        "        else:\n",
        "            print(\"Your guess is too high\")\n",
        "\n",
        "        print()  # Print an empty line to tidy up the console\n",
        "\n",
        "    print(\"Your attempt has been completed. Sorry, try your luck next time.\")\n",
        "    print(f\"The correct number was: {secret_number}\")\n",
        "\n",
        "if __name__ == '__main__':\n",
        "    main()\n"
      ]
    },
    {
      "cell_type": "markdown",
      "metadata": {
        "id": "mzhPoHUflr3n"
      },
      "source": [
        "**\n",
        "/04_random_numbers**"
      ]
    },
    {
      "cell_type": "code",
      "execution_count": null,
      "metadata": {
        "colab": {
          "base_uri": "https://localhost:8080/"
        },
        "id": "yZ85n3Edlt9W",
        "outputId": "7d81b64b-081f-4659-ac49-891bf4891502"
      },
      "outputs": [
        {
          "name": "stdout",
          "output_type": "stream",
          "text": [
            "67\n",
            "42\n",
            "69\n",
            "26\n",
            "15\n",
            "35\n",
            "58\n",
            "20\n",
            "48\n",
            "61\n"
          ]
        }
      ],
      "source": [
        "import random\n",
        "\n",
        "N_number : int = 10\n",
        "Min_value : int = 1\n",
        "Max_value : int = 100\n",
        "\n",
        "def main():\n",
        "  for i in range(N_number):\n",
        "    value = random.randint(Min_value,  Max_value)\n",
        "    print(value)\n",
        "\n",
        "if __name__ == '__main__':\n",
        "  main()"
      ]
    },
    {
      "cell_type": "markdown",
      "metadata": {
        "id": "gTsR5h-RneQu"
      },
      "source": [
        "**online_class_projects/02_intermediate**"
      ]
    },
    {
      "cell_type": "code",
      "execution_count": null,
      "metadata": {
        "colab": {
          "background_save": true,
          "base_uri": "https://localhost:8080/"
        },
        "id": "YXrA3IJKnc1w",
        "outputId": "b302fbac-48b7-4bed-b632-31a63ada8bae"
      },
      "outputs": [
        {
          "name": "stdout",
          "output_type": "stream",
          "text": [
            "Welcome to the High-Low Game!\n",
            "--------------------------------\n",
            "I am thinking of a number between 1 and 99...\n",
            "Round 6\n",
            "Your number is 56\n",
            "Your guess is too low\n",
            "Aww, that's incorrect. The computer's number was 60\n",
            "Your score is now 0\n",
            "\n",
            "Round 6\n",
            "Your number is 74\n",
            "Your guess is too high\n",
            "Aww, that's incorrect. The computer's number was 60\n",
            "Your score is now 0\n",
            "\n",
            "Round 6\n"
          ]
        }
      ],
      "source": [
        "import random\n",
        "\n",
        "NUM_ROUND = 5  # Maximum number of NUM_ROUND\n",
        "\n",
        "def main():\n",
        "    print(\"Welcome to the High-Low Game!\")\n",
        "    print('--------------------------------')\n",
        "\n",
        "    your_score = 0\n",
        "\n",
        "    # Generate the secret number at random!\n",
        "    computer_num = random.randint(1, 99)\n",
        "\n",
        "    print(\"I am thinking of a number between 1 and 99...\")\n",
        "\n",
        "    for NUM_ROUNDS in range(NUM_ROUND):\n",
        "      print(\"Round\", NUM_ROUND + 1)\n",
        "        # Get user's guess\n",
        "      guess = int(input(f\"Round {NUM_ROUND + 1}/{NUM_ROUND} - Enter a guess: \"))\n",
        "      print(\"Your number is\", guess)\n",
        "      choice: str = input(\"Do you think your number is higher or lower than the computer's?: \")\n",
        "\n",
        "      # Milestone 3: Map out all the ways to win the round\n",
        "      higher_and_correct: bool = choice == \"higher\" and guess > computer_num\n",
        "      lower_and_correct: bool = choice == \"lower\" and guess < computer_num\n",
        "\n",
        "      if guess == computer_num:\n",
        "          print(f\"Congrats! The number was: {computer_num}\")\n",
        "          your_score += 1\n",
        "          return\n",
        "\n",
        "      elif guess < computer_num:\n",
        "            print(\"Your guess is too low\")\n",
        "      else:\n",
        "            print(\"Your guess is too high\")\n",
        "\n",
        "      print(\"Aww, that's incorrect. The computer's number was\", computer_num)\n",
        "      print(\"Your score is now\", your_score)\n",
        "\n",
        "      print()  # Print an empty line to tidy up the console\n",
        "    print(\"Thanks for playing!\")\n",
        "\n",
        "    # print(f\"The correct number was: {computer_num}\")\n",
        "\n",
        "\n",
        "if __name__ == '__main__':\n",
        "    main()\n"
      ]
    },
    {
      "cell_type": "markdown",
      "metadata": {
        "id": "D9SVtPYty3CE"
      },
      "source": [
        "**02_intermediate\n",
        "/Intro to Python**"
      ]
    },
    {
      "cell_type": "code",
      "execution_count": null,
      "metadata": {
        "id": "kaf0fcdvy2bb"
      },
      "outputs": [],
      "source": [
        "MERCURY_GRAVITY = 0.376\n",
        "VENUS_GRAVITY = 0.889\n",
        "MARS_GRAVITY = 0.378\n",
        "JUPITER_GRAVITY = 2.36\n",
        "SATURN_GRAVITY = 1.081\n",
        "URANUS_GRAVITY = 0.815\n",
        "NEPTUNE_GRAVITY = 1.14\n",
        "EARTH_GRAVITY = 1.0\n",
        "\n",
        "\"\"\" Prompts the user for a weight on Earth and a planet (in separate inputs). Then prints the equivalent weight on that planet.\n",
        "\n",
        "    Note that the user should type in a planet with the first letter as uppercase, and you do not need to handle the case where a user types in something other than one of the planets (that is not Earth). \"\"\"\n",
        "\n",
        "\n",
        "def main():\n",
        "\n",
        "   # Prompt the user for their weight on Earth earth_weight = float(input(\"Enter a weight on Earth: \"))\n",
        "  earth_weight = float(input(\"Enter a weight on Earth:  \"))\n",
        "  # Prompt the user for the name of a planet\n",
        "  planet = input(\"Enter a planet: \")\n",
        "\n",
        "  # Determine the gravitational constant for the selected planet\n",
        "  if planet == \"Mercury\":\n",
        "      gravity_constant = MERCURY_GRAVITY\n",
        "  elif planet == \"Venus\":\n",
        "      gravity_constant = VENUS_GRAVITY\n",
        "  elif planet == \"Mars\":\n",
        "      gravity_constant = MARS_GRAVITY\n",
        "  elif planet == \"Jupiter\":\n",
        "      gravity_constant = JUPITER_GRAVITY\n",
        "  elif planet == \"Saturn\":\n",
        "      gravity_constant = SATURN_GRAVITY\n",
        "  elif planet == \"Uranus\":\n",
        "      gravity_constant = URANUS_GRAVITY\n",
        "  else:\n",
        "      # can assume user types in one of these planets, so this can be an else instead of elif\n",
        "      gravity_constant = NEPTUNE_GRAVITY\n",
        "\n",
        "  # Calculate the equivalent weight on the selected planet\n",
        "  planetary_weight = earth_weight * gravity_constant\n",
        "  rounded_planetary_weight = round(planetary_weight, 2)\n",
        "\n",
        "  # Print the result\n",
        "  print(\"The equivalent weight on \" + planet + \":  \" + str(rounded_planetary_weight))\n",
        "\n",
        "if __name__ == '__main__':\n",
        "  main()"
      ]
    }
  ],
  "metadata": {
    "accelerator": "GPU",
    "colab": {
      "gpuType": "T4",
      "provenance": [],
      "authorship_tag": "ABX9TyOseGYYPvuhLc++924zOhf6",
      "include_colab_link": true
    },
    "kernelspec": {
      "display_name": "Python 3",
      "name": "python3"
    },
    "language_info": {
      "name": "python"
    }
  },
  "nbformat": 4,
  "nbformat_minor": 0
}